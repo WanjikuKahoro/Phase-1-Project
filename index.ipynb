{
 "cells": [
  {
   "cell_type": "markdown",
   "id": "4281b362",
   "metadata": {},
   "source": [
    "# Aviation Accidents Data\n",
    "This is a Phase 1 Project that involves a csv file on aviation accidents between the year 1948-2022\n",
    "\n",
    "**Author:** Emma Kahoro \n",
    "**Date:** 29/09/2025  \n",
    "**Purpose:** This notebook performs a detailed analysis of aviation accident data, including accident counts, injuries and relationships with weather and months.\n",
    "\n",
    "\n",
    "### Data Info\n",
    "The data is obtained from github as the assigned dataset [AVIATION](https://github.com/learn-co-curriculum/dsc-phase-1-project-v3/blob/master/data/Aviation_Data.csv), which contains data on aviation accidents for different aircrafts and airports.\n",
    "\n",
    "\n",
    "## Analysis Objectives\n",
    "\n",
    "1. Identify the most common aircraft makes and models involved in accidents.\n",
    "\n",
    "2. Analyze accident severity by aircraft characteristics\n",
    "\n",
    "3. Determine the safest and riskiest aircraft makes\n",
    "\n",
    "4. Assess the influence of environmental factors on accident outcomes\n",
    "\n",
    "5. Provide actionable recommendations for stakeholders\n",
    "\n",
    "---\n",
    "\n"
   ]
  },
  {
   "cell_type": "markdown",
   "id": "837d3054",
   "metadata": {},
   "source": [
    "### 1.1 **Import Libraries** and **Load Dataset**\n",
    "- Load Python libraries for data manipulation and visualization.\n",
    "- Load the CSV file containing accident and incident records."
   ]
  },
  {
   "cell_type": "code",
   "execution_count": 1,
   "id": "0fd319e2",
   "metadata": {},
   "outputs": [],
   "source": [
    "# Import Libraries\n",
    "import pandas as pd\n",
    "import numpy as np\n",
    "import matplotlib.pyplot as plt\n",
    "import seaborn as sns\n",
    "\n",
    "%matplotlib inline"
   ]
  },
  {
   "cell_type": "code",
   "execution_count": 2,
   "id": "9b8f2ebf",
   "metadata": {},
   "outputs": [],
   "source": [
    "# Read the dataset\n",
    "df = pd.read_csv(\"Aviation_Data.csv\", low_memory=False)"
   ]
  },
  {
   "cell_type": "markdown",
   "id": "bf319cd6",
   "metadata": {},
   "source": [
    "### 1.2 Inspect the data\n",
    "Taking a look at the data to get a general sense of what the DataFrame is about.\n",
    "Inspect the first few rows, check column types, and understand the dataset structure. "
   ]
  },
  {
   "cell_type": "code",
   "execution_count": 3,
   "id": "642be113",
   "metadata": {},
   "outputs": [
    {
     "data": {
      "text/html": [
       "<div>\n",
       "<style scoped>\n",
       "    .dataframe tbody tr th:only-of-type {\n",
       "        vertical-align: middle;\n",
       "    }\n",
       "\n",
       "    .dataframe tbody tr th {\n",
       "        vertical-align: top;\n",
       "    }\n",
       "\n",
       "    .dataframe thead th {\n",
       "        text-align: right;\n",
       "    }\n",
       "</style>\n",
       "<table border=\"1\" class=\"dataframe\">\n",
       "  <thead>\n",
       "    <tr style=\"text-align: right;\">\n",
       "      <th></th>\n",
       "      <th>Event.Id</th>\n",
       "      <th>Investigation.Type</th>\n",
       "      <th>Accident.Number</th>\n",
       "      <th>Event.Date</th>\n",
       "      <th>Location</th>\n",
       "      <th>Country</th>\n",
       "      <th>Latitude</th>\n",
       "      <th>Longitude</th>\n",
       "      <th>Airport.Code</th>\n",
       "      <th>Airport.Name</th>\n",
       "      <th>...</th>\n",
       "      <th>Purpose.of.flight</th>\n",
       "      <th>Air.carrier</th>\n",
       "      <th>Total.Fatal.Injuries</th>\n",
       "      <th>Total.Serious.Injuries</th>\n",
       "      <th>Total.Minor.Injuries</th>\n",
       "      <th>Total.Uninjured</th>\n",
       "      <th>Weather.Condition</th>\n",
       "      <th>Broad.phase.of.flight</th>\n",
       "      <th>Report.Status</th>\n",
       "      <th>Publication.Date</th>\n",
       "    </tr>\n",
       "  </thead>\n",
       "  <tbody>\n",
       "    <tr>\n",
       "      <th>0</th>\n",
       "      <td>20001218X45444</td>\n",
       "      <td>Accident</td>\n",
       "      <td>SEA87LA080</td>\n",
       "      <td>1948-10-24</td>\n",
       "      <td>MOOSE CREEK, ID</td>\n",
       "      <td>United States</td>\n",
       "      <td>NaN</td>\n",
       "      <td>NaN</td>\n",
       "      <td>NaN</td>\n",
       "      <td>NaN</td>\n",
       "      <td>...</td>\n",
       "      <td>Personal</td>\n",
       "      <td>NaN</td>\n",
       "      <td>2.0</td>\n",
       "      <td>0.0</td>\n",
       "      <td>0.0</td>\n",
       "      <td>0.0</td>\n",
       "      <td>UNK</td>\n",
       "      <td>Cruise</td>\n",
       "      <td>Probable Cause</td>\n",
       "      <td>NaN</td>\n",
       "    </tr>\n",
       "    <tr>\n",
       "      <th>1</th>\n",
       "      <td>20001218X45447</td>\n",
       "      <td>Accident</td>\n",
       "      <td>LAX94LA336</td>\n",
       "      <td>1962-07-19</td>\n",
       "      <td>BRIDGEPORT, CA</td>\n",
       "      <td>United States</td>\n",
       "      <td>NaN</td>\n",
       "      <td>NaN</td>\n",
       "      <td>NaN</td>\n",
       "      <td>NaN</td>\n",
       "      <td>...</td>\n",
       "      <td>Personal</td>\n",
       "      <td>NaN</td>\n",
       "      <td>4.0</td>\n",
       "      <td>0.0</td>\n",
       "      <td>0.0</td>\n",
       "      <td>0.0</td>\n",
       "      <td>UNK</td>\n",
       "      <td>Unknown</td>\n",
       "      <td>Probable Cause</td>\n",
       "      <td>19-09-1996</td>\n",
       "    </tr>\n",
       "    <tr>\n",
       "      <th>2</th>\n",
       "      <td>20061025X01555</td>\n",
       "      <td>Accident</td>\n",
       "      <td>NYC07LA005</td>\n",
       "      <td>1974-08-30</td>\n",
       "      <td>Saltville, VA</td>\n",
       "      <td>United States</td>\n",
       "      <td>36.922223</td>\n",
       "      <td>-81.878056</td>\n",
       "      <td>NaN</td>\n",
       "      <td>NaN</td>\n",
       "      <td>...</td>\n",
       "      <td>Personal</td>\n",
       "      <td>NaN</td>\n",
       "      <td>3.0</td>\n",
       "      <td>NaN</td>\n",
       "      <td>NaN</td>\n",
       "      <td>NaN</td>\n",
       "      <td>IMC</td>\n",
       "      <td>Cruise</td>\n",
       "      <td>Probable Cause</td>\n",
       "      <td>26-02-2007</td>\n",
       "    </tr>\n",
       "    <tr>\n",
       "      <th>3</th>\n",
       "      <td>20001218X45448</td>\n",
       "      <td>Accident</td>\n",
       "      <td>LAX96LA321</td>\n",
       "      <td>1977-06-19</td>\n",
       "      <td>EUREKA, CA</td>\n",
       "      <td>United States</td>\n",
       "      <td>NaN</td>\n",
       "      <td>NaN</td>\n",
       "      <td>NaN</td>\n",
       "      <td>NaN</td>\n",
       "      <td>...</td>\n",
       "      <td>Personal</td>\n",
       "      <td>NaN</td>\n",
       "      <td>2.0</td>\n",
       "      <td>0.0</td>\n",
       "      <td>0.0</td>\n",
       "      <td>0.0</td>\n",
       "      <td>IMC</td>\n",
       "      <td>Cruise</td>\n",
       "      <td>Probable Cause</td>\n",
       "      <td>12-09-2000</td>\n",
       "    </tr>\n",
       "    <tr>\n",
       "      <th>4</th>\n",
       "      <td>20041105X01764</td>\n",
       "      <td>Accident</td>\n",
       "      <td>CHI79FA064</td>\n",
       "      <td>1979-08-02</td>\n",
       "      <td>Canton, OH</td>\n",
       "      <td>United States</td>\n",
       "      <td>NaN</td>\n",
       "      <td>NaN</td>\n",
       "      <td>NaN</td>\n",
       "      <td>NaN</td>\n",
       "      <td>...</td>\n",
       "      <td>Personal</td>\n",
       "      <td>NaN</td>\n",
       "      <td>1.0</td>\n",
       "      <td>2.0</td>\n",
       "      <td>NaN</td>\n",
       "      <td>0.0</td>\n",
       "      <td>VMC</td>\n",
       "      <td>Approach</td>\n",
       "      <td>Probable Cause</td>\n",
       "      <td>16-04-1980</td>\n",
       "    </tr>\n",
       "  </tbody>\n",
       "</table>\n",
       "<p>5 rows × 31 columns</p>\n",
       "</div>"
      ],
      "text/plain": [
       "         Event.Id Investigation.Type Accident.Number  Event.Date  \\\n",
       "0  20001218X45444           Accident      SEA87LA080  1948-10-24   \n",
       "1  20001218X45447           Accident      LAX94LA336  1962-07-19   \n",
       "2  20061025X01555           Accident      NYC07LA005  1974-08-30   \n",
       "3  20001218X45448           Accident      LAX96LA321  1977-06-19   \n",
       "4  20041105X01764           Accident      CHI79FA064  1979-08-02   \n",
       "\n",
       "          Location        Country   Latitude   Longitude Airport.Code  \\\n",
       "0  MOOSE CREEK, ID  United States        NaN         NaN          NaN   \n",
       "1   BRIDGEPORT, CA  United States        NaN         NaN          NaN   \n",
       "2    Saltville, VA  United States  36.922223  -81.878056          NaN   \n",
       "3       EUREKA, CA  United States        NaN         NaN          NaN   \n",
       "4       Canton, OH  United States        NaN         NaN          NaN   \n",
       "\n",
       "  Airport.Name  ... Purpose.of.flight Air.carrier Total.Fatal.Injuries  \\\n",
       "0          NaN  ...          Personal         NaN                  2.0   \n",
       "1          NaN  ...          Personal         NaN                  4.0   \n",
       "2          NaN  ...          Personal         NaN                  3.0   \n",
       "3          NaN  ...          Personal         NaN                  2.0   \n",
       "4          NaN  ...          Personal         NaN                  1.0   \n",
       "\n",
       "  Total.Serious.Injuries Total.Minor.Injuries Total.Uninjured  \\\n",
       "0                    0.0                  0.0             0.0   \n",
       "1                    0.0                  0.0             0.0   \n",
       "2                    NaN                  NaN             NaN   \n",
       "3                    0.0                  0.0             0.0   \n",
       "4                    2.0                  NaN             0.0   \n",
       "\n",
       "  Weather.Condition  Broad.phase.of.flight   Report.Status Publication.Date  \n",
       "0               UNK                 Cruise  Probable Cause              NaN  \n",
       "1               UNK                Unknown  Probable Cause       19-09-1996  \n",
       "2               IMC                 Cruise  Probable Cause       26-02-2007  \n",
       "3               IMC                 Cruise  Probable Cause       12-09-2000  \n",
       "4               VMC               Approach  Probable Cause       16-04-1980  \n",
       "\n",
       "[5 rows x 31 columns]"
      ]
     },
     "execution_count": 3,
     "metadata": {},
     "output_type": "execute_result"
    }
   ],
   "source": [
    "df.head()"
   ]
  },
  {
   "cell_type": "code",
   "execution_count": 4,
   "id": "48c0e23f",
   "metadata": {},
   "outputs": [
    {
     "data": {
      "text/html": [
       "<div>\n",
       "<style scoped>\n",
       "    .dataframe tbody tr th:only-of-type {\n",
       "        vertical-align: middle;\n",
       "    }\n",
       "\n",
       "    .dataframe tbody tr th {\n",
       "        vertical-align: top;\n",
       "    }\n",
       "\n",
       "    .dataframe thead th {\n",
       "        text-align: right;\n",
       "    }\n",
       "</style>\n",
       "<table border=\"1\" class=\"dataframe\">\n",
       "  <thead>\n",
       "    <tr style=\"text-align: right;\">\n",
       "      <th></th>\n",
       "      <th>Event.Id</th>\n",
       "      <th>Investigation.Type</th>\n",
       "      <th>Accident.Number</th>\n",
       "      <th>Event.Date</th>\n",
       "      <th>Location</th>\n",
       "      <th>Country</th>\n",
       "      <th>Latitude</th>\n",
       "      <th>Longitude</th>\n",
       "      <th>Airport.Code</th>\n",
       "      <th>Airport.Name</th>\n",
       "      <th>...</th>\n",
       "      <th>Purpose.of.flight</th>\n",
       "      <th>Air.carrier</th>\n",
       "      <th>Total.Fatal.Injuries</th>\n",
       "      <th>Total.Serious.Injuries</th>\n",
       "      <th>Total.Minor.Injuries</th>\n",
       "      <th>Total.Uninjured</th>\n",
       "      <th>Weather.Condition</th>\n",
       "      <th>Broad.phase.of.flight</th>\n",
       "      <th>Report.Status</th>\n",
       "      <th>Publication.Date</th>\n",
       "    </tr>\n",
       "  </thead>\n",
       "  <tbody>\n",
       "    <tr>\n",
       "      <th>90343</th>\n",
       "      <td>20221227106491</td>\n",
       "      <td>Accident</td>\n",
       "      <td>ERA23LA093</td>\n",
       "      <td>2022-12-26</td>\n",
       "      <td>Annapolis, MD</td>\n",
       "      <td>United States</td>\n",
       "      <td>NaN</td>\n",
       "      <td>NaN</td>\n",
       "      <td>NaN</td>\n",
       "      <td>NaN</td>\n",
       "      <td>...</td>\n",
       "      <td>Personal</td>\n",
       "      <td>NaN</td>\n",
       "      <td>0.0</td>\n",
       "      <td>1.0</td>\n",
       "      <td>0.0</td>\n",
       "      <td>0.0</td>\n",
       "      <td>NaN</td>\n",
       "      <td>NaN</td>\n",
       "      <td>NaN</td>\n",
       "      <td>29-12-2022</td>\n",
       "    </tr>\n",
       "    <tr>\n",
       "      <th>90344</th>\n",
       "      <td>20221227106494</td>\n",
       "      <td>Accident</td>\n",
       "      <td>ERA23LA095</td>\n",
       "      <td>2022-12-26</td>\n",
       "      <td>Hampton, NH</td>\n",
       "      <td>United States</td>\n",
       "      <td>NaN</td>\n",
       "      <td>NaN</td>\n",
       "      <td>NaN</td>\n",
       "      <td>NaN</td>\n",
       "      <td>...</td>\n",
       "      <td>NaN</td>\n",
       "      <td>NaN</td>\n",
       "      <td>0.0</td>\n",
       "      <td>0.0</td>\n",
       "      <td>0.0</td>\n",
       "      <td>0.0</td>\n",
       "      <td>NaN</td>\n",
       "      <td>NaN</td>\n",
       "      <td>NaN</td>\n",
       "      <td>NaN</td>\n",
       "    </tr>\n",
       "    <tr>\n",
       "      <th>90345</th>\n",
       "      <td>20221227106497</td>\n",
       "      <td>Accident</td>\n",
       "      <td>WPR23LA075</td>\n",
       "      <td>2022-12-26</td>\n",
       "      <td>Payson, AZ</td>\n",
       "      <td>United States</td>\n",
       "      <td>341525N</td>\n",
       "      <td>1112021W</td>\n",
       "      <td>PAN</td>\n",
       "      <td>PAYSON</td>\n",
       "      <td>...</td>\n",
       "      <td>Personal</td>\n",
       "      <td>NaN</td>\n",
       "      <td>0.0</td>\n",
       "      <td>0.0</td>\n",
       "      <td>0.0</td>\n",
       "      <td>1.0</td>\n",
       "      <td>VMC</td>\n",
       "      <td>NaN</td>\n",
       "      <td>NaN</td>\n",
       "      <td>27-12-2022</td>\n",
       "    </tr>\n",
       "    <tr>\n",
       "      <th>90346</th>\n",
       "      <td>20221227106498</td>\n",
       "      <td>Accident</td>\n",
       "      <td>WPR23LA076</td>\n",
       "      <td>2022-12-26</td>\n",
       "      <td>Morgan, UT</td>\n",
       "      <td>United States</td>\n",
       "      <td>NaN</td>\n",
       "      <td>NaN</td>\n",
       "      <td>NaN</td>\n",
       "      <td>NaN</td>\n",
       "      <td>...</td>\n",
       "      <td>Personal</td>\n",
       "      <td>MC CESSNA 210N LLC</td>\n",
       "      <td>0.0</td>\n",
       "      <td>0.0</td>\n",
       "      <td>0.0</td>\n",
       "      <td>0.0</td>\n",
       "      <td>NaN</td>\n",
       "      <td>NaN</td>\n",
       "      <td>NaN</td>\n",
       "      <td>NaN</td>\n",
       "    </tr>\n",
       "    <tr>\n",
       "      <th>90347</th>\n",
       "      <td>20221230106513</td>\n",
       "      <td>Accident</td>\n",
       "      <td>ERA23LA097</td>\n",
       "      <td>2022-12-29</td>\n",
       "      <td>Athens, GA</td>\n",
       "      <td>United States</td>\n",
       "      <td>NaN</td>\n",
       "      <td>NaN</td>\n",
       "      <td>NaN</td>\n",
       "      <td>NaN</td>\n",
       "      <td>...</td>\n",
       "      <td>Personal</td>\n",
       "      <td>NaN</td>\n",
       "      <td>0.0</td>\n",
       "      <td>1.0</td>\n",
       "      <td>0.0</td>\n",
       "      <td>1.0</td>\n",
       "      <td>NaN</td>\n",
       "      <td>NaN</td>\n",
       "      <td>NaN</td>\n",
       "      <td>30-12-2022</td>\n",
       "    </tr>\n",
       "  </tbody>\n",
       "</table>\n",
       "<p>5 rows × 31 columns</p>\n",
       "</div>"
      ],
      "text/plain": [
       "             Event.Id Investigation.Type Accident.Number  Event.Date  \\\n",
       "90343  20221227106491           Accident      ERA23LA093  2022-12-26   \n",
       "90344  20221227106494           Accident      ERA23LA095  2022-12-26   \n",
       "90345  20221227106497           Accident      WPR23LA075  2022-12-26   \n",
       "90346  20221227106498           Accident      WPR23LA076  2022-12-26   \n",
       "90347  20221230106513           Accident      ERA23LA097  2022-12-29   \n",
       "\n",
       "            Location        Country Latitude Longitude Airport.Code  \\\n",
       "90343  Annapolis, MD  United States      NaN       NaN          NaN   \n",
       "90344    Hampton, NH  United States      NaN       NaN          NaN   \n",
       "90345     Payson, AZ  United States  341525N  1112021W          PAN   \n",
       "90346     Morgan, UT  United States      NaN       NaN          NaN   \n",
       "90347     Athens, GA  United States      NaN       NaN          NaN   \n",
       "\n",
       "      Airport.Name  ... Purpose.of.flight         Air.carrier  \\\n",
       "90343          NaN  ...          Personal                 NaN   \n",
       "90344          NaN  ...               NaN                 NaN   \n",
       "90345       PAYSON  ...          Personal                 NaN   \n",
       "90346          NaN  ...          Personal  MC CESSNA 210N LLC   \n",
       "90347          NaN  ...          Personal                 NaN   \n",
       "\n",
       "      Total.Fatal.Injuries Total.Serious.Injuries Total.Minor.Injuries  \\\n",
       "90343                  0.0                    1.0                  0.0   \n",
       "90344                  0.0                    0.0                  0.0   \n",
       "90345                  0.0                    0.0                  0.0   \n",
       "90346                  0.0                    0.0                  0.0   \n",
       "90347                  0.0                    1.0                  0.0   \n",
       "\n",
       "      Total.Uninjured Weather.Condition  Broad.phase.of.flight Report.Status  \\\n",
       "90343             0.0               NaN                    NaN           NaN   \n",
       "90344             0.0               NaN                    NaN           NaN   \n",
       "90345             1.0               VMC                    NaN           NaN   \n",
       "90346             0.0               NaN                    NaN           NaN   \n",
       "90347             1.0               NaN                    NaN           NaN   \n",
       "\n",
       "      Publication.Date  \n",
       "90343       29-12-2022  \n",
       "90344              NaN  \n",
       "90345       27-12-2022  \n",
       "90346              NaN  \n",
       "90347       30-12-2022  \n",
       "\n",
       "[5 rows x 31 columns]"
      ]
     },
     "execution_count": 4,
     "metadata": {},
     "output_type": "execute_result"
    }
   ],
   "source": [
    "df.tail()"
   ]
  },
  {
   "cell_type": "code",
   "execution_count": 5,
   "id": "a070b112",
   "metadata": {},
   "outputs": [
    {
     "name": "stdout",
     "output_type": "stream",
     "text": [
      "(90348, 31)\n",
      "Index(['Event.Id', 'Investigation.Type', 'Accident.Number', 'Event.Date',\n",
      "       'Location', 'Country', 'Latitude', 'Longitude', 'Airport.Code',\n",
      "       'Airport.Name', 'Injury.Severity', 'Aircraft.damage',\n",
      "       'Aircraft.Category', 'Registration.Number', 'Make', 'Model',\n",
      "       'Amateur.Built', 'Number.of.Engines', 'Engine.Type', 'FAR.Description',\n",
      "       'Schedule', 'Purpose.of.flight', 'Air.carrier', 'Total.Fatal.Injuries',\n",
      "       'Total.Serious.Injuries', 'Total.Minor.Injuries', 'Total.Uninjured',\n",
      "       'Weather.Condition', 'Broad.phase.of.flight', 'Report.Status',\n",
      "       'Publication.Date'],\n",
      "      dtype='object')\n"
     ]
    }
   ],
   "source": [
    "print(df.shape)\n",
    "print(df.columns)"
   ]
  },
  {
   "cell_type": "code",
   "execution_count": 6,
   "id": "6c13504c",
   "metadata": {},
   "outputs": [
    {
     "name": "stdout",
     "output_type": "stream",
     "text": [
      "<class 'pandas.core.frame.DataFrame'>\n",
      "RangeIndex: 90348 entries, 0 to 90347\n",
      "Data columns (total 31 columns):\n",
      " #   Column                  Non-Null Count  Dtype  \n",
      "---  ------                  --------------  -----  \n",
      " 0   Event.Id                88889 non-null  object \n",
      " 1   Investigation.Type      90348 non-null  object \n",
      " 2   Accident.Number         88889 non-null  object \n",
      " 3   Event.Date              88889 non-null  object \n",
      " 4   Location                88837 non-null  object \n",
      " 5   Country                 88663 non-null  object \n",
      " 6   Latitude                34382 non-null  object \n",
      " 7   Longitude               34373 non-null  object \n",
      " 8   Airport.Code            50249 non-null  object \n",
      " 9   Airport.Name            52790 non-null  object \n",
      " 10  Injury.Severity         87889 non-null  object \n",
      " 11  Aircraft.damage         85695 non-null  object \n",
      " 12  Aircraft.Category       32287 non-null  object \n",
      " 13  Registration.Number     87572 non-null  object \n",
      " 14  Make                    88826 non-null  object \n",
      " 15  Model                   88797 non-null  object \n",
      " 16  Amateur.Built           88787 non-null  object \n",
      " 17  Number.of.Engines       82805 non-null  float64\n",
      " 18  Engine.Type             81812 non-null  object \n",
      " 19  FAR.Description         32023 non-null  object \n",
      " 20  Schedule                12582 non-null  object \n",
      " 21  Purpose.of.flight       82697 non-null  object \n",
      " 22  Air.carrier             16648 non-null  object \n",
      " 23  Total.Fatal.Injuries    77488 non-null  float64\n",
      " 24  Total.Serious.Injuries  76379 non-null  float64\n",
      " 25  Total.Minor.Injuries    76956 non-null  float64\n",
      " 26  Total.Uninjured         82977 non-null  float64\n",
      " 27  Weather.Condition       84397 non-null  object \n",
      " 28  Broad.phase.of.flight   61724 non-null  object \n",
      " 29  Report.Status           82508 non-null  object \n",
      " 30  Publication.Date        73659 non-null  object \n",
      "dtypes: float64(5), object(26)\n",
      "memory usage: 21.4+ MB\n"
     ]
    }
   ],
   "source": [
    "df.info()"
   ]
  },
  {
   "cell_type": "markdown",
   "id": "5046fa1d",
   "metadata": {},
   "source": [
    "#### Summary of the Data\n",
    "The general description from the df is;\n",
    "- There are 90348 rows and 31 columns\n",
    "- Columns have numerical and string data types\n",
    "- There are missing values in most of the columns with only one column complete\n",
    "- 4 columns are float datatype\n",
    "- The data is messy and needs cleaning"
   ]
  },
  {
   "cell_type": "markdown",
   "id": "dde795ec",
   "metadata": {},
   "source": [
    "### 2.0 **Data Cleaning and Transformation** \n",
    "Handle missing data, standardize the data and ensure the data has no duplicates.  "
   ]
  },
  {
   "cell_type": "markdown",
   "id": "a9688046",
   "metadata": {},
   "source": [
    "#### 2.1 Handling missing data and Duplicates\n",
    "Data cleaning for the columns: 'Make' 'Model' 'Aircraft.Category' 'Engine.Type' 'Number.of.Engines' 'Amateur.Built'"
   ]
  },
  {
   "cell_type": "code",
   "execution_count": 7,
   "id": "c1a494c1",
   "metadata": {},
   "outputs": [
    {
     "data": {
      "text/plain": [
       "Make                  1522\n",
       "Model                 1551\n",
       "Aircraft.Category    58061\n",
       "Engine.Type           8536\n",
       "Number.of.Engines     7543\n",
       "Amateur.Built         1561\n",
       "dtype: int64"
      ]
     },
     "execution_count": 7,
     "metadata": {},
     "output_type": "execute_result"
    }
   ],
   "source": [
    "# Missing values for the columns of interest\n",
    "cols = ['Make', 'Model', 'Aircraft.Category', 'Engine.Type', 'Number.of.Engines', 'Amateur.Built']\n",
    "\n",
    "# Check missing values\n",
    "df[cols].isna().sum()"
   ]
  },
  {
   "cell_type": "code",
   "execution_count": 8,
   "id": "ccb2358f",
   "metadata": {},
   "outputs": [],
   "source": [
    "# Drop missing values by make and model\n",
    "df = df.dropna(subset=['Make', 'Model'])"
   ]
  },
  {
   "cell_type": "code",
   "execution_count": 9,
   "id": "41ba8676",
   "metadata": {},
   "outputs": [
    {
     "data": {
      "text/plain": [
       "Cessna            27145\n",
       "Piper             14869\n",
       "Beech              5371\n",
       "Bellanca           3767\n",
       "Boeing             2738\n",
       "Mooney             1334\n",
       "Robinson           1229\n",
       "Grumman            1172\n",
       "Hughes              932\n",
       "Douglas             889\n",
       "Schweizer           773\n",
       "Air Tractor         691\n",
       "Aeronca             636\n",
       "Maule               589\n",
       "Champion            519\n",
       "Stinson             439\n",
       "Aero Commander      429\n",
       "De Havilland        421\n",
       "Luscombe            414\n",
       "Aerospatiale        388\n",
       "Name: Make, dtype: int64"
      ]
     },
     "execution_count": 9,
     "metadata": {},
     "output_type": "execute_result"
    }
   ],
   "source": [
    "# Standardize the make Column\n",
    "df['Make'] = df['Make'].str.strip().str.title().replace({'Bell': 'Bellanca', 'Mcdonnell Douglas': 'Douglas'})\n",
    "# Count the top 20 most frequent aircraft makes\n",
    "df['Make'].value_counts().head(20)\n"
   ]
  },
  {
   "cell_type": "code",
   "execution_count": 10,
   "id": "5a9b8010",
   "metadata": {},
   "outputs": [
    {
     "data": {
      "text/plain": [
       "Unknown              56548\n",
       "Airplane             27580\n",
       "Helicopter            3435\n",
       "Glider                 508\n",
       "Balloon                231\n",
       "Gyrocraft              173\n",
       "Weight-Shift           170\n",
       "Powered Parachute       91\n",
       "Ultralight              31\n",
       "Powered-Lift             5\n",
       "Blimp                    4\n",
       "Rocket                   1\n",
       "Name: Aircraft.Category, dtype: int64"
      ]
     },
     "execution_count": 10,
     "metadata": {},
     "output_type": "execute_result"
    }
   ],
   "source": [
    "#Standardizing Aircraft Category\n",
    "df['Aircraft.Category'] = df['Aircraft.Category'].str.strip().str.title().replace({'Unk': 'Unknown', \n",
    "                                                                                   'Ultr': 'Ultralight',\n",
    "                                                                                   'Wsft': 'Weight-Shift'})\n",
    "# Fill missing values for aircraft category with `Unknown` \n",
    "df['Aircraft.Category'] = df['Aircraft.Category'].fillna('Unknown')\n",
    "df['Aircraft.Category'].value_counts()"
   ]
  },
  {
   "cell_type": "code",
   "execution_count": 11,
   "id": "caa751f2",
   "metadata": {},
   "outputs": [
    {
     "data": {
      "text/plain": [
       "Reciprocating    76502\n",
       "Turbo Shaft       3609\n",
       "Turbo Prop        3390\n",
       "Turbo Fan         2490\n",
       "Unknown           2049\n",
       "Turbo Jet          703\n",
       "None                21\n",
       "Electric            10\n",
       "Lr                   2\n",
       "Hybrid Rocket        1\n",
       "Name: Engine.Type, dtype: int64"
      ]
     },
     "execution_count": 11,
     "metadata": {},
     "output_type": "execute_result"
    }
   ],
   "source": [
    "# Standardize the values of the Engine.Type\n",
    "df['Engine.Type'] = df['Engine.Type'].str.strip().str.title().replace({'Unk': 'Unknown', 'Geared Turbofan': 'Turbo Fan'})\n",
    "df['Engine.Type'].isna().sum()\n",
    "\n",
    "# Fill the missing values with the mode\n",
    "engine_type_mode = df['Engine.Type'].mode()[0]\n",
    "df['Engine.Type'] = df['Engine.Type'].fillna(engine_type_mode)\n",
    "df['Engine.Type'].value_counts()\n"
   ]
  },
  {
   "cell_type": "code",
   "execution_count": 12,
   "id": "971d149b",
   "metadata": {},
   "outputs": [],
   "source": [
    "# Run the descriptive statistics \n",
    "df['Number.of.Engines'].describe()\n",
    "\n",
    "# Fill missing with median (since it’s numeric and usually 1).\n",
    "df['Number.of.Engines'] = df['Number.of.Engines'].fillna(df['Number.of.Engines'].median())"
   ]
  },
  {
   "cell_type": "code",
   "execution_count": 13,
   "id": "53cf068a",
   "metadata": {},
   "outputs": [
    {
     "data": {
      "text/plain": [
       "No         80240\n",
       "Yes         8438\n",
       "Unknown       99\n",
       "Name: Amateur.Built, dtype: int64"
      ]
     },
     "execution_count": 13,
     "metadata": {},
     "output_type": "execute_result"
    }
   ],
   "source": [
    "# Whether the aircraft is amateur-built replace missing with `Unknown`\n",
    "df['Amateur.Built'] = df['Amateur.Built'].fillna('Unknown')\n",
    "df['Amateur.Built'].value_counts()"
   ]
  },
  {
   "cell_type": "code",
   "execution_count": 14,
   "id": "ef7bd7fe",
   "metadata": {},
   "outputs": [
    {
     "data": {
      "text/plain": [
       "Make                 0\n",
       "Model                0\n",
       "Aircraft.Category    0\n",
       "Engine.Type          0\n",
       "Number.of.Engines    0\n",
       "Amateur.Built        0\n",
       "dtype: int64"
      ]
     },
     "execution_count": 14,
     "metadata": {},
     "output_type": "execute_result"
    }
   ],
   "source": [
    "# Ensure the columns have no missung data\n",
    "df[cols].isna().sum()"
   ]
  },
  {
   "cell_type": "code",
   "execution_count": 15,
   "id": "4131f837",
   "metadata": {},
   "outputs": [
    {
     "data": {
      "text/plain": [
       "(88777, 31)"
      ]
     },
     "execution_count": 15,
     "metadata": {},
     "output_type": "execute_result"
    }
   ],
   "source": [
    "df.shape"
   ]
  },
  {
   "cell_type": "code",
   "execution_count": 16,
   "id": "baa6589a",
   "metadata": {},
   "outputs": [
    {
     "name": "stdout",
     "output_type": "stream",
     "text": [
      "Number of duplicate rows: 0\n"
     ]
    }
   ],
   "source": [
    "# Check for duplicates\n",
    "duplicates = df.duplicated()\n",
    "\n",
    "# Count duplicates\n",
    "print(\"Number of duplicate rows:\", duplicates.sum())\n"
   ]
  },
  {
   "cell_type": "markdown",
   "id": "906b9399",
   "metadata": {},
   "source": [
    "#### 2.2 Cleaning the Weather Condition Column\n",
    "- Replace all missing values with unknown to show whether unknown has a significance in accidents"
   ]
  },
  {
   "cell_type": "code",
   "execution_count": 17,
   "id": "b7646dd8",
   "metadata": {},
   "outputs": [
    {
     "data": {
      "text/plain": [
       "VMC    77251\n",
       "IMC     5971\n",
       "UNK     5555\n",
       "Name: Weather.Condition, dtype: int64"
      ]
     },
     "execution_count": 17,
     "metadata": {},
     "output_type": "execute_result"
    }
   ],
   "source": [
    "df['Weather.Condition'].value_counts()\n",
    "\n",
    "# There is UNK and Unk both for unknown\n",
    "# make the categories case sensitive\n",
    "df['Weather.Condition'] = df['Weather.Condition'].str.strip().str.upper()\n",
    "\n",
    "df['Weather.Condition'].isnull().sum()\n",
    "\n",
    "# Replace the missing values(4492) with UNK for Unknown\n",
    "df['Weather.Condition'].fillna('UNK', inplace=True)\n",
    "df['Weather.Condition'].value_counts()"
   ]
  },
  {
   "cell_type": "markdown",
   "id": "2fe608ec",
   "metadata": {},
   "source": [
    "#### 2.3 Changing the Event.Date column to date-time datatype\n",
    "- Change the datatype\n",
    "- Create a new column of seasons"
   ]
  },
  {
   "cell_type": "code",
   "execution_count": 18,
   "id": "4c0627f1",
   "metadata": {},
   "outputs": [
    {
     "name": "stdout",
     "output_type": "stream",
     "text": [
      "datetime64[ns]\n"
     ]
    },
    {
     "data": {
      "text/html": [
       "<div>\n",
       "<style scoped>\n",
       "    .dataframe tbody tr th:only-of-type {\n",
       "        vertical-align: middle;\n",
       "    }\n",
       "\n",
       "    .dataframe tbody tr th {\n",
       "        vertical-align: top;\n",
       "    }\n",
       "\n",
       "    .dataframe thead th {\n",
       "        text-align: right;\n",
       "    }\n",
       "</style>\n",
       "<table border=\"1\" class=\"dataframe\">\n",
       "  <thead>\n",
       "    <tr style=\"text-align: right;\">\n",
       "      <th></th>\n",
       "      <th>Year</th>\n",
       "      <th>Month</th>\n",
       "    </tr>\n",
       "  </thead>\n",
       "  <tbody>\n",
       "    <tr>\n",
       "      <th>0</th>\n",
       "      <td>1948</td>\n",
       "      <td>Oct</td>\n",
       "    </tr>\n",
       "    <tr>\n",
       "      <th>1</th>\n",
       "      <td>1962</td>\n",
       "      <td>Jul</td>\n",
       "    </tr>\n",
       "    <tr>\n",
       "      <th>2</th>\n",
       "      <td>1974</td>\n",
       "      <td>Aug</td>\n",
       "    </tr>\n",
       "    <tr>\n",
       "      <th>3</th>\n",
       "      <td>1977</td>\n",
       "      <td>Jun</td>\n",
       "    </tr>\n",
       "    <tr>\n",
       "      <th>4</th>\n",
       "      <td>1979</td>\n",
       "      <td>Aug</td>\n",
       "    </tr>\n",
       "  </tbody>\n",
       "</table>\n",
       "</div>"
      ],
      "text/plain": [
       "   Year Month\n",
       "0  1948   Oct\n",
       "1  1962   Jul\n",
       "2  1974   Aug\n",
       "3  1977   Jun\n",
       "4  1979   Aug"
      ]
     },
     "execution_count": 18,
     "metadata": {},
     "output_type": "execute_result"
    }
   ],
   "source": [
    "# Convert the columm data type do date.time \n",
    "df['Event.Date'] = pd.to_datetime(df['Event.Date'])\n",
    "\n",
    "print(df['Event.Date'].dtype)\n",
    "\n",
    "# Extract Year and Month(Abbreviation) and observe if they correspond correctly\n",
    "df['Year'] = df['Event.Date'].dt.year\n",
    "df['Month'] = df['Event.Date'].dt.strftime('%b')\n",
    "\n",
    "df[['Year', 'Month']].head()\n"
   ]
  },
  {
   "cell_type": "code",
   "execution_count": 19,
   "id": "a5215dad",
   "metadata": {},
   "outputs": [],
   "source": [
    "# Create a new column of seasons\n",
    "def get_season(Month):\n",
    "    if Month in ['Dec', 'Jan', 'Feb']:\n",
    "        return 'Winter'\n",
    "    elif Month in ['Mar', 'Apr', 'May']:\n",
    "        return 'Spring'\n",
    "    elif Month in ['Jun', 'Jul', 'Aug']:\n",
    "        return 'Summer'\n",
    "    else:\n",
    "        return 'Fall'\n",
    "\n",
    "# Create season column\n",
    "df['Season'] = df['Month'].apply(get_season)\n"
   ]
  },
  {
   "cell_type": "markdown",
   "id": "9246fa9b",
   "metadata": {},
   "source": [
    "#### 2.4 Clean the Location Column and the Country Column\n",
    "- Drop rows where both Country and Location are missing\n",
    "- Ensure the the row items are case sensitive to remove duplicates\n",
    "- Replace rows with missing Location and Country to `Unknown`"
   ]
  },
  {
   "cell_type": "code",
   "execution_count": 20,
   "id": "4120e2f2",
   "metadata": {},
   "outputs": [
    {
     "name": "stdout",
     "output_type": "stream",
     "text": [
      "Number of rows missing both Country and Location: 1\n"
     ]
    }
   ],
   "source": [
    "# Count rows where both Country and Location are missing\n",
    "missing_both = df[df['Country'].isnull() & df['Location'].isnull()]\n",
    "print(\"Number of rows missing both Country and Location:\", missing_both.shape[0])\n",
    "\n",
    "# Drop rows where BOTH Country and Location are missing(1 Row)\n",
    "df = df.dropna(subset=['Country', 'Location'], how='all')\n"
   ]
  },
  {
   "cell_type": "code",
   "execution_count": 21,
   "id": "c92eae81",
   "metadata": {},
   "outputs": [
    {
     "data": {
      "text/plain": [
       "0"
      ]
     },
     "execution_count": 21,
     "metadata": {},
     "output_type": "execute_result"
    }
   ],
   "source": [
    "# Cleaning the Location Column\n",
    "df['Location'].value_counts()\n",
    "\n",
    "# Strip extra spaces and standardize to Title\n",
    "df['Location'] = df['Location'].str.title().str.strip()\n",
    "\n",
    "# Rename the missing location as `Unknown`\n",
    "df['Location'].fillna('Unknown', inplace=True)\n",
    "\n",
    "df['Location'].isna().sum() # Check for missing data\n",
    "\n",
    "# Separate the known from the unknown locations\n",
    "df_known_location = df[df[\"Location\"] != \"Unknown\"]\n",
    "\n",
    "df['Location'].isna().sum()"
   ]
  },
  {
   "cell_type": "code",
   "execution_count": 22,
   "id": "41a7cc68",
   "metadata": {},
   "outputs": [
    {
     "data": {
      "text/plain": [
       "0"
      ]
     },
     "execution_count": 22,
     "metadata": {},
     "output_type": "execute_result"
    }
   ],
   "source": [
    "# Cleaning the Country Column\n",
    "df['Country'].value_counts(dropna=False).head(20)\n",
    "\n",
    "# Strip extra spaces and standardize capitalization \n",
    "df['Country'] = df['Country'].str.strip().str.title()\n",
    "\n",
    "# # Fill missing country values with 'Unknown'\n",
    "df['Country'].fillna('Unknown', inplace=True)\n",
    "\n",
    "df['Country'].isna().sum() # Check for missing values\n",
    "\n",
    "# # Separate the known from the unknown Country\n",
    "df_known_country = df[df[\"Country\"] != \"Unknown\"]\n",
    "df['Country'].isna().sum()"
   ]
  },
  {
   "cell_type": "markdown",
   "id": "b71804d1",
   "metadata": {},
   "source": [
    "#### 2.6 Data Cleaning of the Numerical Columns\n",
    "Columns of interest are; `Total.Fatal.Injuries`, `Total.Serious.Injuries`, `Total.Minor.Injuries`, `Total.Uninjured`\n",
    "- Drop the rows with missing values in all the columns of interest\n",
    "- Ensure that all the values are numeric in nature\n",
    "- Fill the missing values with 0(which is the median and the approximate mean)\n",
    "- Ensure that there are no negative injuries"
   ]
  },
  {
   "cell_type": "code",
   "execution_count": 23,
   "id": "299e3c18",
   "metadata": {},
   "outputs": [
    {
     "data": {
      "text/html": [
       "<div>\n",
       "<style scoped>\n",
       "    .dataframe tbody tr th:only-of-type {\n",
       "        vertical-align: middle;\n",
       "    }\n",
       "\n",
       "    .dataframe tbody tr th {\n",
       "        vertical-align: top;\n",
       "    }\n",
       "\n",
       "    .dataframe thead th {\n",
       "        text-align: right;\n",
       "    }\n",
       "</style>\n",
       "<table border=\"1\" class=\"dataframe\">\n",
       "  <thead>\n",
       "    <tr style=\"text-align: right;\">\n",
       "      <th></th>\n",
       "      <th>Number.of.Engines</th>\n",
       "      <th>Total.Fatal.Injuries</th>\n",
       "      <th>Total.Serious.Injuries</th>\n",
       "      <th>Total.Minor.Injuries</th>\n",
       "      <th>Total.Uninjured</th>\n",
       "      <th>Year</th>\n",
       "    </tr>\n",
       "  </thead>\n",
       "  <tbody>\n",
       "    <tr>\n",
       "      <th>count</th>\n",
       "      <td>88776.000000</td>\n",
       "      <td>77390.000000</td>\n",
       "      <td>76286.000000</td>\n",
       "      <td>76862.000000</td>\n",
       "      <td>82879.000000</td>\n",
       "      <td>88776.000000</td>\n",
       "    </tr>\n",
       "    <tr>\n",
       "      <th>mean</th>\n",
       "      <td>1.136647</td>\n",
       "      <td>0.647538</td>\n",
       "      <td>0.279815</td>\n",
       "      <td>0.357199</td>\n",
       "      <td>5.321698</td>\n",
       "      <td>1999.202746</td>\n",
       "    </tr>\n",
       "    <tr>\n",
       "      <th>std</th>\n",
       "      <td>0.432727</td>\n",
       "      <td>5.488763</td>\n",
       "      <td>1.544410</td>\n",
       "      <td>2.236775</td>\n",
       "      <td>27.913736</td>\n",
       "      <td>11.888544</td>\n",
       "    </tr>\n",
       "    <tr>\n",
       "      <th>min</th>\n",
       "      <td>0.000000</td>\n",
       "      <td>0.000000</td>\n",
       "      <td>0.000000</td>\n",
       "      <td>0.000000</td>\n",
       "      <td>0.000000</td>\n",
       "      <td>1948.000000</td>\n",
       "    </tr>\n",
       "    <tr>\n",
       "      <th>25%</th>\n",
       "      <td>1.000000</td>\n",
       "      <td>0.000000</td>\n",
       "      <td>0.000000</td>\n",
       "      <td>0.000000</td>\n",
       "      <td>0.000000</td>\n",
       "      <td>1989.000000</td>\n",
       "    </tr>\n",
       "    <tr>\n",
       "      <th>50%</th>\n",
       "      <td>1.000000</td>\n",
       "      <td>0.000000</td>\n",
       "      <td>0.000000</td>\n",
       "      <td>0.000000</td>\n",
       "      <td>1.000000</td>\n",
       "      <td>1998.000000</td>\n",
       "    </tr>\n",
       "    <tr>\n",
       "      <th>75%</th>\n",
       "      <td>1.000000</td>\n",
       "      <td>0.000000</td>\n",
       "      <td>0.000000</td>\n",
       "      <td>0.000000</td>\n",
       "      <td>2.000000</td>\n",
       "      <td>2009.000000</td>\n",
       "    </tr>\n",
       "    <tr>\n",
       "      <th>max</th>\n",
       "      <td>8.000000</td>\n",
       "      <td>349.000000</td>\n",
       "      <td>161.000000</td>\n",
       "      <td>380.000000</td>\n",
       "      <td>699.000000</td>\n",
       "      <td>2022.000000</td>\n",
       "    </tr>\n",
       "  </tbody>\n",
       "</table>\n",
       "</div>"
      ],
      "text/plain": [
       "       Number.of.Engines  Total.Fatal.Injuries  Total.Serious.Injuries  \\\n",
       "count       88776.000000          77390.000000            76286.000000   \n",
       "mean            1.136647              0.647538                0.279815   \n",
       "std             0.432727              5.488763                1.544410   \n",
       "min             0.000000              0.000000                0.000000   \n",
       "25%             1.000000              0.000000                0.000000   \n",
       "50%             1.000000              0.000000                0.000000   \n",
       "75%             1.000000              0.000000                0.000000   \n",
       "max             8.000000            349.000000              161.000000   \n",
       "\n",
       "       Total.Minor.Injuries  Total.Uninjured          Year  \n",
       "count          76862.000000     82879.000000  88776.000000  \n",
       "mean               0.357199         5.321698   1999.202746  \n",
       "std                2.236775        27.913736     11.888544  \n",
       "min                0.000000         0.000000   1948.000000  \n",
       "25%                0.000000         0.000000   1989.000000  \n",
       "50%                0.000000         1.000000   1998.000000  \n",
       "75%                0.000000         2.000000   2009.000000  \n",
       "max              380.000000       699.000000   2022.000000  "
      ]
     },
     "execution_count": 23,
     "metadata": {},
     "output_type": "execute_result"
    }
   ],
   "source": [
    "df.describe()"
   ]
  },
  {
   "cell_type": "code",
   "execution_count": 24,
   "id": "c56dcf36",
   "metadata": {},
   "outputs": [
    {
     "name": "stdout",
     "output_type": "stream",
     "text": [
      "Number of rows missing all injuries(Fatal,Serious,Minor,Uninjured): 219\n"
     ]
    }
   ],
   "source": [
    "# Count rows where \n",
    "missing_all = df[df['Total.Fatal.Injuries'].isnull() & \n",
    "                 df['Total.Serious.Injuries'].isnull() & \n",
    "                 df['Total.Minor.Injuries'].isnull() & \n",
    "                 df['Total.Uninjured'].isnull()]\n",
    "\n",
    "print(\"Number of rows missing all injuries(Fatal,Serious,Minor,Uninjured):\", missing_all.shape[0])\n",
    "\n",
    "# Drop rows where all Injuries and Uninjured are missing(223 Rows)\n",
    "df = df.dropna(subset=['Total.Fatal.Injuries', 'Total.Serious.Injuries', 'Total.Minor.Injuries', 'Total.Uninjured'], how='all')\n"
   ]
  },
  {
   "cell_type": "code",
   "execution_count": 25,
   "id": "da71200d",
   "metadata": {},
   "outputs": [
    {
     "name": "stdout",
     "output_type": "stream",
     "text": [
      "Number of rows with negative values: 0\n"
     ]
    }
   ],
   "source": [
    "# # A list of the columns of interest\n",
    "numeric_cols = ['Total.Fatal.Injuries', 'Total.Serious.Injuries', 'Total.Minor.Injuries', 'Total.Uninjured']\n",
    "\n",
    "# #  Convert to numeric (invalid entries become NaN)\n",
    "for col in numeric_cols:\n",
    "    df[col] = pd.to_numeric(df[col])\n",
    "\n",
    "# # Fill missing values with 0 (The Median and Approximate Mean)\n",
    "df[numeric_cols] = df[numeric_cols].fillna(0)\n",
    "\n",
    "# # Check for negative values in the columns\n",
    "for col in numeric_cols:\n",
    "    neg_count = (df[col] < 0).sum()\n",
    "print(f\"Number of rows with negative values: {neg_count}\")"
   ]
  },
  {
   "cell_type": "code",
   "execution_count": 26,
   "id": "4c1f3074",
   "metadata": {},
   "outputs": [
    {
     "name": "stdout",
     "output_type": "stream",
     "text": [
      "<class 'pandas.core.frame.DataFrame'>\n",
      "Int64Index: 88557 entries, 0 to 90347\n",
      "Data columns (total 15 columns):\n",
      " #   Column                  Non-Null Count  Dtype         \n",
      "---  ------                  --------------  -----         \n",
      " 0   Make                    88557 non-null  object        \n",
      " 1   Model                   88557 non-null  object        \n",
      " 2   Aircraft.Category       88557 non-null  object        \n",
      " 3   Engine.Type             88557 non-null  object        \n",
      " 4   Number.of.Engines       88557 non-null  float64       \n",
      " 5   Amateur.Built           88557 non-null  object        \n",
      " 6   Country                 88557 non-null  object        \n",
      " 7   Location                88557 non-null  object        \n",
      " 8   Weather.Condition       88557 non-null  object        \n",
      " 9   Event.Date              88557 non-null  datetime64[ns]\n",
      " 10  Total.Fatal.Injuries    88557 non-null  float64       \n",
      " 11  Total.Serious.Injuries  88557 non-null  float64       \n",
      " 12  Total.Minor.Injuries    88557 non-null  float64       \n",
      " 13  Total.Uninjured         88557 non-null  float64       \n",
      " 14  Season                  88557 non-null  object        \n",
      "dtypes: datetime64[ns](1), float64(5), object(9)\n",
      "memory usage: 10.8+ MB\n"
     ]
    }
   ],
   "source": [
    "# Check data type and missing data for all variables of interest\n",
    "df[[\n",
    "    'Make', 'Model', 'Aircraft.Category', 'Engine.Type', 'Number.of.Engines', 'Amateur.Built','Country', 'Location', 'Weather.Condition', 'Event.Date',\n",
    "    'Total.Fatal.Injuries', 'Total.Serious.Injuries', 'Total.Minor.Injuries', 'Total.Uninjured', 'Season'\n",
    "    ]].info()"
   ]
  },
  {
   "cell_type": "code",
   "execution_count": 27,
   "id": "891dc7d6",
   "metadata": {},
   "outputs": [],
   "source": [
    "# Create a column for fatal injuries 0 for fatal and 1 for non fatal\n",
    "df['Is_Fatal'] = (df['Total.Fatal.Injuries'] > 0).astype(int)"
   ]
  },
  {
   "cell_type": "markdown",
   "id": "8e1a636a",
   "metadata": {},
   "source": [
    "### 3.0 **Data Manipulation, Analysis and Visualization**\n"
   ]
  },
  {
   "cell_type": "markdown",
   "id": "912428a2",
   "metadata": {},
   "source": [
    "#### 3.1. Identify the most common aircraft involved in accidents.\n",
    "To understand which make of aircraft appear most frequently in accident reports.\n",
    "This is the aircraft that is more prone to accidents."
   ]
  },
  {
   "cell_type": "code",
   "execution_count": 28,
   "id": "c9c537fa",
   "metadata": {},
   "outputs": [
    {
     "data": {
      "text/plain": [
       "Cessna      27135\n",
       "Piper       14860\n",
       "Beech        5362\n",
       "Bellanca     3755\n",
       "Boeing       2627\n",
       "Mooney       1334\n",
       "Robinson     1227\n",
       "Grumman      1172\n",
       "Hughes        931\n",
       "Douglas       865\n",
       "Name: Make, dtype: int64"
      ]
     },
     "execution_count": 28,
     "metadata": {},
     "output_type": "execute_result"
    }
   ],
   "source": [
    "# Variable containing the top 10 makes \n",
    "top_10_makes = df['Make'].value_counts().head(10)\n",
    "top_10_makes"
   ]
  },
  {
   "cell_type": "code",
   "execution_count": 29,
   "id": "e7034758",
   "metadata": {},
   "outputs": [
    {
     "data": {
      "text/html": [
       "<div>\n",
       "<style scoped>\n",
       "    .dataframe tbody tr th:only-of-type {\n",
       "        vertical-align: middle;\n",
       "    }\n",
       "\n",
       "    .dataframe tbody tr th {\n",
       "        vertical-align: top;\n",
       "    }\n",
       "\n",
       "    .dataframe thead th {\n",
       "        text-align: right;\n",
       "    }\n",
       "</style>\n",
       "<table border=\"1\" class=\"dataframe\">\n",
       "  <thead>\n",
       "    <tr style=\"text-align: right;\">\n",
       "      <th></th>\n",
       "      <th>Make</th>\n",
       "      <th>Total.Fatal.Injuries</th>\n",
       "      <th>Total.Serious.Injuries</th>\n",
       "      <th>Total.Minor.Injuries</th>\n",
       "      <th>Total.Uninjured</th>\n",
       "      <th>Total_Injuries</th>\n",
       "    </tr>\n",
       "  </thead>\n",
       "  <tbody>\n",
       "    <tr>\n",
       "      <th>1256</th>\n",
       "      <td>Cessna</td>\n",
       "      <td>9637.0</td>\n",
       "      <td>4894.0</td>\n",
       "      <td>6875.0</td>\n",
       "      <td>34418.0</td>\n",
       "      <td>21406.0</td>\n",
       "    </tr>\n",
       "    <tr>\n",
       "      <th>825</th>\n",
       "      <td>Boeing</td>\n",
       "      <td>8748.0</td>\n",
       "      <td>2157.0</td>\n",
       "      <td>2761.0</td>\n",
       "      <td>208368.0</td>\n",
       "      <td>13666.0</td>\n",
       "    </tr>\n",
       "    <tr>\n",
       "      <th>5266</th>\n",
       "      <td>Piper</td>\n",
       "      <td>6688.0</td>\n",
       "      <td>3059.0</td>\n",
       "      <td>3757.0</td>\n",
       "      <td>17832.0</td>\n",
       "      <td>13504.0</td>\n",
       "    </tr>\n",
       "    <tr>\n",
       "      <th>637</th>\n",
       "      <td>Beech</td>\n",
       "      <td>3781.0</td>\n",
       "      <td>1095.0</td>\n",
       "      <td>1340.0</td>\n",
       "      <td>7891.0</td>\n",
       "      <td>6216.0</td>\n",
       "    </tr>\n",
       "    <tr>\n",
       "      <th>1955</th>\n",
       "      <td>Douglas</td>\n",
       "      <td>2270.0</td>\n",
       "      <td>661.0</td>\n",
       "      <td>1752.0</td>\n",
       "      <td>53907.0</td>\n",
       "      <td>4683.0</td>\n",
       "    </tr>\n",
       "    <tr>\n",
       "      <th>686</th>\n",
       "      <td>Bellanca</td>\n",
       "      <td>1677.0</td>\n",
       "      <td>1074.0</td>\n",
       "      <td>1361.0</td>\n",
       "      <td>4002.0</td>\n",
       "      <td>4112.0</td>\n",
       "    </tr>\n",
       "    <tr>\n",
       "      <th>181</th>\n",
       "      <td>Airbus Industrie</td>\n",
       "      <td>1174.0</td>\n",
       "      <td>138.0</td>\n",
       "      <td>399.0</td>\n",
       "      <td>21261.0</td>\n",
       "      <td>1711.0</td>\n",
       "    </tr>\n",
       "    <tr>\n",
       "      <th>175</th>\n",
       "      <td>Airbus</td>\n",
       "      <td>1325.0</td>\n",
       "      <td>192.0</td>\n",
       "      <td>106.0</td>\n",
       "      <td>21261.0</td>\n",
       "      <td>1623.0</td>\n",
       "    </tr>\n",
       "    <tr>\n",
       "      <th>4743</th>\n",
       "      <td>Mooney</td>\n",
       "      <td>685.0</td>\n",
       "      <td>248.0</td>\n",
       "      <td>391.0</td>\n",
       "      <td>1303.0</td>\n",
       "      <td>1324.0</td>\n",
       "    </tr>\n",
       "    <tr>\n",
       "      <th>5751</th>\n",
       "      <td>Robinson</td>\n",
       "      <td>618.0</td>\n",
       "      <td>219.0</td>\n",
       "      <td>320.0</td>\n",
       "      <td>1132.0</td>\n",
       "      <td>1157.0</td>\n",
       "    </tr>\n",
       "  </tbody>\n",
       "</table>\n",
       "</div>"
      ],
      "text/plain": [
       "                  Make  Total.Fatal.Injuries  Total.Serious.Injuries  \\\n",
       "1256            Cessna                9637.0                  4894.0   \n",
       "825             Boeing                8748.0                  2157.0   \n",
       "5266             Piper                6688.0                  3059.0   \n",
       "637              Beech                3781.0                  1095.0   \n",
       "1955           Douglas                2270.0                   661.0   \n",
       "686           Bellanca                1677.0                  1074.0   \n",
       "181   Airbus Industrie                1174.0                   138.0   \n",
       "175             Airbus                1325.0                   192.0   \n",
       "4743            Mooney                 685.0                   248.0   \n",
       "5751          Robinson                 618.0                   219.0   \n",
       "\n",
       "      Total.Minor.Injuries  Total.Uninjured  Total_Injuries  \n",
       "1256                6875.0          34418.0         21406.0  \n",
       "825                 2761.0         208368.0         13666.0  \n",
       "5266                3757.0          17832.0         13504.0  \n",
       "637                 1340.0           7891.0          6216.0  \n",
       "1955                1752.0          53907.0          4683.0  \n",
       "686                 1361.0           4002.0          4112.0  \n",
       "181                  399.0          21261.0          1711.0  \n",
       "175                  106.0          21261.0          1623.0  \n",
       "4743                 391.0           1303.0          1324.0  \n",
       "5751                 320.0           1132.0          1157.0  "
      ]
     },
     "execution_count": 29,
     "metadata": {},
     "output_type": "execute_result"
    }
   ],
   "source": [
    "# Select the injury columns and group them by make\n",
    "injury_cols = ['Total.Fatal.Injuries', 'Total.Serious.Injuries', 'Total.Minor.Injuries', 'Total.Uninjured']\n",
    "\n",
    "make_injuries = (df.groupby('Make')[injury_cols].sum().reset_index())\n",
    "\n",
    "# Add total injuries column\n",
    "make_injuries['Total_Injuries'] = (make_injuries['Total.Fatal.Injuries'] +\n",
    "                                   make_injuries['Total.Serious.Injuries'] +\n",
    "                                   make_injuries['Total.Minor.Injuries'])\n",
    "\n",
    "# Sort by total injuries and keep top 20\n",
    "top10_makes = (make_injuries.sort_values('Total_Injuries', ascending=False).head(10))\n",
    "top10_makes\n"
   ]
  },
  {
   "cell_type": "code",
   "execution_count": 30,
   "id": "eb997b35",
   "metadata": {},
   "outputs": [
    {
     "data": {
      "image/png": "[encoded data removed]",
      "text/plain": [
       "<Figure size 1008x432 with 1 Axes>"
      ]
     },
     "metadata": {
      "needs_background": "light"
     },
     "output_type": "display_data"
    }
   ],
   "source": [
    "# Select only fatal + serious injuries for top 20 makes\n",
    "plot_cols = ['Total.Fatal.Injuries', 'Total.Serious.Injuries']\n",
    "\n",
    "top10_makes.set_index('Make')[plot_cols].plot(kind='bar',figsize=(14,6))\n",
    "\n",
    "plt.title(\"Fatal and Serious Injuries by Top 20 Aircraft Makes\")\n",
    "plt.ylabel(\"Number of Injuries\")\n",
    "plt.xlabel(\"Aircraft Make\")\n",
    "plt.legend([\"Fatal Injuries\", \"Serious Injuries\"])\n",
    "plt.show()"
   ]
  },
  {
   "cell_type": "markdown",
   "id": "abf669c7",
   "metadata": {},
   "source": [
    "Cessna is the model most occuring for all the incidents as well as injuries.\n",
    "Piper is second most occuring for all injuries and Serious Injuries.\n",
    "Boeing is second most occuring for fatal injuries."
   ]
  },
  {
   "cell_type": "markdown",
   "id": "4c6f75e0",
   "metadata": {},
   "source": [
    "#### 3.2 Analyze accident distribution by aircraft characteristics\n",
    "Analyze by:\n",
    "- Aircraft Category\n",
    "- Engine Type\n",
    "- Number of Engines\n",
    "- Amateur Built"
   ]
  },
  {
   "cell_type": "markdown",
   "id": "0a15a5b6",
   "metadata": {},
   "source": [
    "##### AIRCRAFT CATEGORY"
   ]
  },
  {
   "cell_type": "code",
   "execution_count": 31,
   "id": "815f4781",
   "metadata": {},
   "outputs": [
    {
     "name": "stdout",
     "output_type": "stream",
     "text": [
      "    Aircraft.Category  Event_Count\n",
      "10            Unknown        56393\n",
      "0            Airplane        27519\n",
      "5          Helicopter         3432\n",
      "3              Glider          508\n",
      "1             Balloon          231\n",
      "4           Gyrocraft          173\n",
      "11       Weight-Shift          170\n",
      "6   Powered Parachute           91\n",
      "9          Ultralight           31\n",
      "2               Blimp            4\n",
      "7        Powered-Lift            4\n",
      "8              Rocket            1\n"
     ]
    }
   ],
   "source": [
    "# Count events by aircraft category\n",
    "events_by_category = (df.groupby('Aircraft.Category')['Event.Id'].count().reset_index(name='Event_Count')\n",
    "                     .sort_values(by='Event_Count', ascending=False))\n",
    "\n",
    "print(events_by_category)"
   ]
  },
  {
   "cell_type": "code",
   "execution_count": 32,
   "id": "ce6bd7b0",
   "metadata": {},
   "outputs": [
    {
     "data": {
      "text/html": [
       "<div>\n",
       "<style scoped>\n",
       "    .dataframe tbody tr th:only-of-type {\n",
       "        vertical-align: middle;\n",
       "    }\n",
       "\n",
       "    .dataframe tbody tr th {\n",
       "        vertical-align: top;\n",
       "    }\n",
       "\n",
       "    .dataframe thead th {\n",
       "        text-align: right;\n",
       "    }\n",
       "</style>\n",
       "<table border=\"1\" class=\"dataframe\">\n",
       "  <thead>\n",
       "    <tr style=\"text-align: right;\">\n",
       "      <th></th>\n",
       "      <th>Aircraft.Category</th>\n",
       "      <th>Total.Fatal.Injuries</th>\n",
       "      <th>Total.Serious.Injuries</th>\n",
       "      <th>Total.Minor.Injuries</th>\n",
       "      <th>Total.Uninjured</th>\n",
       "    </tr>\n",
       "  </thead>\n",
       "  <tbody>\n",
       "    <tr>\n",
       "      <th>10</th>\n",
       "      <td>Unknown</td>\n",
       "      <td>32036.0</td>\n",
       "      <td>12588.0</td>\n",
       "      <td>19819.0</td>\n",
       "      <td>265749.0</td>\n",
       "    </tr>\n",
       "    <tr>\n",
       "      <th>0</th>\n",
       "      <td>Airplane</td>\n",
       "      <td>16014.0</td>\n",
       "      <td>7254.0</td>\n",
       "      <td>6279.0</td>\n",
       "      <td>170085.0</td>\n",
       "    </tr>\n",
       "    <tr>\n",
       "      <th>5</th>\n",
       "      <td>Helicopter</td>\n",
       "      <td>1774.0</td>\n",
       "      <td>1039.0</td>\n",
       "      <td>892.0</td>\n",
       "      <td>3873.0</td>\n",
       "    </tr>\n",
       "    <tr>\n",
       "      <th>3</th>\n",
       "      <td>Glider</td>\n",
       "      <td>99.0</td>\n",
       "      <td>113.0</td>\n",
       "      <td>112.0</td>\n",
       "      <td>337.0</td>\n",
       "    </tr>\n",
       "    <tr>\n",
       "      <th>11</th>\n",
       "      <td>Weight-Shift</td>\n",
       "      <td>77.0</td>\n",
       "      <td>59.0</td>\n",
       "      <td>52.0</td>\n",
       "      <td>48.0</td>\n",
       "    </tr>\n",
       "    <tr>\n",
       "      <th>4</th>\n",
       "      <td>Gyrocraft</td>\n",
       "      <td>44.0</td>\n",
       "      <td>55.0</td>\n",
       "      <td>30.0</td>\n",
       "      <td>84.0</td>\n",
       "    </tr>\n",
       "    <tr>\n",
       "      <th>1</th>\n",
       "      <td>Balloon</td>\n",
       "      <td>43.0</td>\n",
       "      <td>186.0</td>\n",
       "      <td>185.0</td>\n",
       "      <td>842.0</td>\n",
       "    </tr>\n",
       "    <tr>\n",
       "      <th>6</th>\n",
       "      <td>Powered Parachute</td>\n",
       "      <td>15.0</td>\n",
       "      <td>40.0</td>\n",
       "      <td>73.0</td>\n",
       "      <td>23.0</td>\n",
       "    </tr>\n",
       "    <tr>\n",
       "      <th>9</th>\n",
       "      <td>Ultralight</td>\n",
       "      <td>10.0</td>\n",
       "      <td>11.0</td>\n",
       "      <td>9.0</td>\n",
       "      <td>10.0</td>\n",
       "    </tr>\n",
       "    <tr>\n",
       "      <th>8</th>\n",
       "      <td>Rocket</td>\n",
       "      <td>1.0</td>\n",
       "      <td>0.0</td>\n",
       "      <td>1.0</td>\n",
       "      <td>0.0</td>\n",
       "    </tr>\n",
       "    <tr>\n",
       "      <th>2</th>\n",
       "      <td>Blimp</td>\n",
       "      <td>0.0</td>\n",
       "      <td>0.0</td>\n",
       "      <td>3.0</td>\n",
       "      <td>4.0</td>\n",
       "    </tr>\n",
       "    <tr>\n",
       "      <th>7</th>\n",
       "      <td>Powered-Lift</td>\n",
       "      <td>0.0</td>\n",
       "      <td>1.0</td>\n",
       "      <td>0.0</td>\n",
       "      <td>2.0</td>\n",
       "    </tr>\n",
       "  </tbody>\n",
       "</table>\n",
       "</div>"
      ],
      "text/plain": [
       "    Aircraft.Category  Total.Fatal.Injuries  Total.Serious.Injuries  \\\n",
       "10            Unknown               32036.0                 12588.0   \n",
       "0            Airplane               16014.0                  7254.0   \n",
       "5          Helicopter                1774.0                  1039.0   \n",
       "3              Glider                  99.0                   113.0   \n",
       "11       Weight-Shift                  77.0                    59.0   \n",
       "4           Gyrocraft                  44.0                    55.0   \n",
       "1             Balloon                  43.0                   186.0   \n",
       "6   Powered Parachute                  15.0                    40.0   \n",
       "9          Ultralight                  10.0                    11.0   \n",
       "8              Rocket                   1.0                     0.0   \n",
       "2               Blimp                   0.0                     0.0   \n",
       "7        Powered-Lift                   0.0                     1.0   \n",
       "\n",
       "    Total.Minor.Injuries  Total.Uninjured  \n",
       "10               19819.0         265749.0  \n",
       "0                 6279.0         170085.0  \n",
       "5                  892.0           3873.0  \n",
       "3                  112.0            337.0  \n",
       "11                  52.0             48.0  \n",
       "4                   30.0             84.0  \n",
       "1                  185.0            842.0  \n",
       "6                   73.0             23.0  \n",
       "9                    9.0             10.0  \n",
       "8                    1.0              0.0  \n",
       "2                    3.0              4.0  \n",
       "7                    0.0              2.0  "
      ]
     },
     "execution_count": 32,
     "metadata": {},
     "output_type": "execute_result"
    }
   ],
   "source": [
    "# Group the aircraft category by the injury columns\n",
    "category_injuries = (\n",
    "    df.groupby('Aircraft.Category')[injury_cols].sum().reset_index().sort_values(by='Total.Fatal.Injuries', ascending=False))\n",
    "category_injuries\n"
   ]
  },
  {
   "cell_type": "markdown",
   "id": "18274e2e",
   "metadata": {},
   "source": [
    "- Airplanes have the highest number of events occurence, also for all injuries.\n",
    "- Rockets have the lowest number of event occurence.\n",
    "- Powered Lift has the lowest number of Injuries recorded."
   ]
  },
  {
   "cell_type": "markdown",
   "id": "8b66adf0",
   "metadata": {},
   "source": [
    "##### ENGINE TYPE"
   ]
  },
  {
   "cell_type": "code",
   "execution_count": 33,
   "id": "3d4ae2dd",
   "metadata": {},
   "outputs": [
    {
     "name": "stdout",
     "output_type": "stream",
     "text": [
      "     Engine.Type  Event_Count\n",
      "4  Reciprocating        76371\n",
      "8    Turbo Shaft         3608\n",
      "7     Turbo Prop         3388\n",
      "5      Turbo Fan         2477\n",
      "9        Unknown         1976\n",
      "6      Turbo Jet          703\n",
      "3           None           21\n",
      "0       Electric           10\n",
      "2             Lr            2\n",
      "1  Hybrid Rocket            1\n"
     ]
    },
    {
     "data": {
      "image/png": "[encoded data removed]",
      "text/plain": [
       "<Figure size 720x432 with 1 Axes>"
      ]
     },
     "metadata": {
      "needs_background": "light"
     },
     "output_type": "display_data"
    }
   ],
   "source": [
    "# Count events by engine type\n",
    "events_by_engine_type = (df.groupby('Engine.Type')['Event.Id'].count().reset_index(name='Event_Count')\n",
    "                     .sort_values(by='Event_Count', ascending=False))\n",
    "\n",
    "print(events_by_engine_type)\n",
    "\n",
    "\n",
    "# Plot\n",
    "plt.figure(figsize=(10,6))\n",
    "sns.barplot(x=\"Engine.Type\",y=\"Event_Count\",data=events_by_engine_type)\n",
    "\n",
    "plt.title(\"Number of Events by Engine Type\")\n",
    "plt.xlabel(\"Engine Type\")\n",
    "plt.ylabel(\"Event Count\")\n",
    "plt.xticks(rotation=45)\n",
    "plt.show()"
   ]
  },
  {
   "cell_type": "code",
   "execution_count": 34,
   "id": "1b563473",
   "metadata": {},
   "outputs": [
    {
     "name": "stdout",
     "output_type": "stream",
     "text": [
      "     Engine.Type  Total.Fatal.Injuries  Total.Serious.Injuries  \\\n",
      "4  Reciprocating               36661.0                 16201.0   \n",
      "5      Turbo Fan                4560.0                  1848.0   \n",
      "9        Unknown                3765.0                  1133.0   \n",
      "7     Turbo Prop                2566.0                   677.0   \n",
      "8    Turbo Shaft                1695.0                  1217.0   \n",
      "6      Turbo Jet                 862.0                   236.0   \n",
      "0       Electric                   2.0                     1.0   \n",
      "1  Hybrid Rocket                   1.0                     0.0   \n",
      "3           None                   1.0                    12.0   \n",
      "2             Lr                   0.0                    21.0   \n",
      "\n",
      "   Total.Minor.Injuries  Total.Uninjured  \n",
      "4               19477.0         161227.0  \n",
      "5                3385.0         211161.0  \n",
      "9                1751.0          12794.0  \n",
      "7                 902.0          16835.0  \n",
      "8                1563.0           4858.0  \n",
      "6                 365.0          34072.0  \n",
      "0                   0.0              7.0  \n",
      "1                   1.0              0.0  \n",
      "3                   8.0             92.0  \n",
      "2                   3.0             11.0  \n"
     ]
    }
   ],
   "source": [
    "# Counts of engine type by injuries\n",
    "fatalities_by_engine = (\n",
    "    df.groupby(\"Engine.Type\")[injury_cols]\n",
    "      .sum()\n",
    "      .reset_index()\n",
    "      .sort_values(by=\"Total.Fatal.Injuries\", ascending=False)\n",
    ")\n",
    "print(fatalities_by_engine)\n",
    "\n"
   ]
  },
  {
   "cell_type": "markdown",
   "id": "e15f4ae8",
   "metadata": {},
   "source": [
    "- Reciprocating Engines are the most prone to having accidents and incidents as well as injuries.\n",
    "- Hybrid rocket has the least occuring incidents and the least serious injuries(0).\n",
    "- LR has the least recorded fatal injuries(0)."
   ]
  },
  {
   "cell_type": "markdown",
   "id": "9f719c19",
   "metadata": {},
   "source": [
    "##### NUMBER OF ENGINES"
   ]
  },
  {
   "cell_type": "code",
   "execution_count": 35,
   "id": "8bdb9575",
   "metadata": {},
   "outputs": [
    {
     "name": "stdout",
     "output_type": "stream",
     "text": [
      "Number.of.Engines\n",
      "1.0    75387\n",
      "2.0    11063\n",
      "0.0     1194\n",
      "3.0      482\n",
      "4.0      427\n",
      "8.0        3\n",
      "6.0        1\n",
      "dtype: int64\n"
     ]
    }
   ],
   "source": [
    "# Event occurence by number of engines\n",
    "accidents_by_engine_count = (df.groupby('Number.of.Engines').size().sort_values(ascending=False))\n",
    "\n",
    "print(accidents_by_engine_count)\n"
   ]
  },
  {
   "cell_type": "code",
   "execution_count": 36,
   "id": "2d1c0e27",
   "metadata": {},
   "outputs": [
    {
     "name": "stdout",
     "output_type": "stream",
     "text": [
      "                   Total.Fatal.Injuries  Total.Serious.Injuries  \\\n",
      "Number.of.Engines                                                 \n",
      "1.0                             36642.0                 16894.0   \n",
      "2.0                             10518.0                  3417.0   \n",
      "4.0                              1666.0                   231.0   \n",
      "3.0                               878.0                   333.0   \n",
      "0.0                               409.0                   450.0   \n",
      "6.0                                 0.0                     0.0   \n",
      "8.0                                 0.0                    21.0   \n",
      "\n",
      "                   Total.Minor.Injuries  Total.Uninjured  \n",
      "Number.of.Engines                                         \n",
      "1.0                             20752.0         149833.0  \n",
      "2.0                              4531.0         195772.0  \n",
      "4.0                               509.0          40927.0  \n",
      "3.0                              1174.0          51396.0  \n",
      "0.0                               486.0           3118.0  \n",
      "6.0                                 0.0              0.0  \n",
      "8.0                                 3.0             11.0  \n"
     ]
    }
   ],
   "source": [
    "# Counts of Number of engines by injuries\n",
    "injury_cols = ['Total.Fatal.Injuries', 'Total.Serious.Injuries', \n",
    "               'Total.Minor.Injuries', 'Total.Uninjured']\n",
    "\n",
    "injuries_by_engine_count = (df.groupby('Number.of.Engines')[injury_cols].sum().sort_values(by='Total.Fatal.Injuries', ascending=False))\n",
    "\n",
    "print(injuries_by_engine_count)\n"
   ]
  },
  {
   "cell_type": "markdown",
   "id": "3aece085",
   "metadata": {},
   "source": [
    "- Aircrafts with 1 engine have the highest number of events and injuries.\n",
    "- Aircrafts with 6 engines have the least number of events and injuries."
   ]
  },
  {
   "cell_type": "markdown",
   "id": "98ee56a2",
   "metadata": {},
   "source": [
    "##### AMATEUR BUILT"
   ]
  },
  {
   "cell_type": "code",
   "execution_count": 37,
   "id": "1edb1e5f",
   "metadata": {},
   "outputs": [
    {
     "name": "stdout",
     "output_type": "stream",
     "text": [
      "  Amateur.Built  Event_Count\n",
      "0            No        80064\n",
      "2           Yes         8429\n",
      "1       Unknown           64\n"
     ]
    }
   ],
   "source": [
    "# Count events by Amateur Built status\n",
    "events_by_amateur = (df.groupby('Amateur.Built')['Event.Id'].count().reset_index(name='Event_Count')\n",
    "                     .sort_values(by='Event_Count', ascending=False))\n",
    "\n",
    "print(events_by_amateur)\n"
   ]
  },
  {
   "cell_type": "code",
   "execution_count": 38,
   "id": "6c1593fd",
   "metadata": {},
   "outputs": [
    {
     "name": "stdout",
     "output_type": "stream",
     "text": [
      "  Amateur.Built  Total.Fatal.Injuries  Total.Serious.Injuries  \\\n",
      "0            No               46540.0                 19364.0   \n",
      "2           Yes                3137.0                  1925.0   \n",
      "1       Unknown                 436.0                    57.0   \n",
      "\n",
      "   Total.Minor.Injuries  Total.Uninjured  \n",
      "0               25053.0         433156.0  \n",
      "2                2393.0           6748.0  \n",
      "1                   9.0           1153.0  \n"
     ]
    }
   ],
   "source": [
    "# Distribution of events by amateur built\n",
    "events_injuries_by_amateur = (df.groupby('Amateur.Built')[injury_cols].sum().reset_index()\n",
    "                              .sort_values(by='Total.Fatal.Injuries', ascending=False))\n",
    "\n",
    "print(events_injuries_by_amateur)"
   ]
  },
  {
   "cell_type": "markdown",
   "id": "6d95330c",
   "metadata": {},
   "source": [
    "- Aircrafts built byproffessionals were more prone to accidents than those built by amateurs."
   ]
  },
  {
   "cell_type": "markdown",
   "id": "395c354e",
   "metadata": {},
   "source": [
    "#### 3.3 Determine the safest and riskiest aircraft makes\n",
    "Compute and compare fatality rates across manufacturers to highlight safe vs high-risk makes."
   ]
  },
  {
   "cell_type": "code",
   "execution_count": 39,
   "id": "90fd3e8f",
   "metadata": {},
   "outputs": [
    {
     "data": {
      "text/html": [
       "<div>\n",
       "<style scoped>\n",
       "    .dataframe tbody tr th:only-of-type {\n",
       "        vertical-align: middle;\n",
       "    }\n",
       "\n",
       "    .dataframe tbody tr th {\n",
       "        vertical-align: top;\n",
       "    }\n",
       "\n",
       "    .dataframe thead th {\n",
       "        text-align: right;\n",
       "    }\n",
       "</style>\n",
       "<table border=\"1\" class=\"dataframe\">\n",
       "  <thead>\n",
       "    <tr style=\"text-align: right;\">\n",
       "      <th></th>\n",
       "      <th>Make</th>\n",
       "      <th>Total_Events</th>\n",
       "      <th>Total_Fatal_Injuries</th>\n",
       "      <th>Fatality_Rate</th>\n",
       "    </tr>\n",
       "  </thead>\n",
       "  <tbody>\n",
       "    <tr>\n",
       "      <th>41</th>\n",
       "      <td>Adams</td>\n",
       "      <td>24</td>\n",
       "      <td>4.0</td>\n",
       "      <td>0.166667</td>\n",
       "    </tr>\n",
       "    <tr>\n",
       "      <th>66</th>\n",
       "      <td>Aero Commander</td>\n",
       "      <td>428</td>\n",
       "      <td>246.0</td>\n",
       "      <td>0.574766</td>\n",
       "    </tr>\n",
       "    <tr>\n",
       "      <th>93</th>\n",
       "      <td>Aeronca</td>\n",
       "      <td>635</td>\n",
       "      <td>118.0</td>\n",
       "      <td>0.185827</td>\n",
       "    </tr>\n",
       "    <tr>\n",
       "      <th>108</th>\n",
       "      <td>Aerospatiale</td>\n",
       "      <td>387</td>\n",
       "      <td>349.0</td>\n",
       "      <td>0.901809</td>\n",
       "    </tr>\n",
       "    <tr>\n",
       "      <th>115</th>\n",
       "      <td>Aerostar</td>\n",
       "      <td>88</td>\n",
       "      <td>19.0</td>\n",
       "      <td>0.215909</td>\n",
       "    </tr>\n",
       "  </tbody>\n",
       "</table>\n",
       "</div>"
      ],
      "text/plain": [
       "               Make  Total_Events  Total_Fatal_Injuries  Fatality_Rate\n",
       "41            Adams            24                   4.0       0.166667\n",
       "66   Aero Commander           428                 246.0       0.574766\n",
       "93          Aeronca           635                 118.0       0.185827\n",
       "108    Aerospatiale           387                 349.0       0.901809\n",
       "115        Aerostar            88                  19.0       0.215909"
      ]
     },
     "execution_count": 39,
     "metadata": {},
     "output_type": "execute_result"
    }
   ],
   "source": [
    "# Count total events per make\n",
    "events_by_make = df.groupby('Make')['Event.Id'].nunique()\n",
    "\n",
    "# Sum total fatal injuries per make\n",
    "fatalities_by_make = df.groupby('Make')['Total.Fatal.Injuries'].sum()\n",
    "\n",
    "# Combine into a single DataFrame\n",
    "make_stats = pd.DataFrame({'Total_Events': events_by_make,'Total_Fatal_Injuries': fatalities_by_make}).reset_index()\n",
    "\n",
    "# Compute fatality rate = (Fatal Injuries/Total Events)\n",
    "make_stats['Fatality_Rate'] = (make_stats['Total_Fatal_Injuries'] / make_stats['Total_Events'])\n",
    "\n",
    "# Filter out very rare makes to avoid skewed rates (< 20 events are excluded)\n",
    "make_stats = make_stats[make_stats['Total_Events'] >= 20]\n",
    "\n",
    "make_stats.head()\n"
   ]
  },
  {
   "cell_type": "code",
   "execution_count": 40,
   "id": "25bb6196",
   "metadata": {},
   "outputs": [
    {
     "name": "stdout",
     "output_type": "stream",
     "text": [
      "Safest Makes:\n",
      "                                 Make  Fatality_Rate  Total_Events\n",
      "1615                Cub Crafters Inc       0.000000            20\n",
      "1620                 Cubcrafters Inc       0.000000            22\n",
      "560                           Barnes       0.000000            22\n",
      "2847  Grumman Acft Eng Cor-Schweizer       0.017241            58\n",
      "2876            Gulfstream-Schweizer       0.037037            27\n",
      "6504                        Stearman       0.037037            27\n",
      "1153                         Callair       0.038462            26\n",
      "1162                Cameron Balloons       0.040000            25\n",
      "6838                Thunder And Colt       0.043478            23\n",
      "5539                           Raven       0.047619            84\n",
      "\n",
      "Riskiest Makes:\n",
      "                    Make  Fatality_Rate  Total_Events\n",
      "181    Airbus Industrie       7.673203           153\n",
      "424                 Atr       5.285714            35\n",
      "175              Airbus       4.584775           289\n",
      "6638             Sukhoi       4.272727            22\n",
      "825              Boeing       3.371098          2595\n",
      "2412             Fokker       3.348485            66\n",
      "977   British Aerospace       2.741573            89\n",
      "4182           Lockheed       2.694215           121\n",
      "1955            Douglas       2.642608           859\n",
      "1224               Casa       2.454545            22\n"
     ]
    }
   ],
   "source": [
    "# Top 10 safest (lowest fatality rate)\n",
    "safest_makes = make_stats.sort_values('Fatality_Rate').head(10) # Sorted in ascending order\n",
    "\n",
    "# Top 10 riskiest (highest fatality rate)\n",
    "riskiest_makes = make_stats.sort_values('Fatality_Rate', ascending=False).head(10)\n",
    "\n",
    "print(\"Safest Makes:\\n\", safest_makes[['Make', 'Fatality_Rate', 'Total_Events']])\n",
    "print(\"\\nRiskiest Makes:\\n\", riskiest_makes[['Make', 'Fatality_Rate', 'Total_Events']])\n"
   ]
  },
  {
   "cell_type": "markdown",
   "id": "8f3328fa",
   "metadata": {},
   "source": [
    "- Safest Makes: manufacturers have lower fatality rates relative to the number of accidents.\n",
    "- Riskiest makes: manufactureres have higher fatality rates despite fewer total events.\n",
    "\n",
    "- Fatality rate is a better safety measure than total accidents, since a make may appear frequently in accidents simply because it’s common."
   ]
  },
  {
   "cell_type": "markdown",
   "id": "5f2f44da",
   "metadata": {},
   "source": [
    "#### 4. Assess the influence of environmental factors on accident outcomes\n",
    "Explore how weather conditions, seasons and investigation types correlate with injury severity."
   ]
  },
  {
   "cell_type": "code",
   "execution_count": 41,
   "id": "fd7202be",
   "metadata": {},
   "outputs": [
    {
     "data": {
      "text/html": [
       "<div>\n",
       "<style scoped>\n",
       "    .dataframe tbody tr th:only-of-type {\n",
       "        vertical-align: middle;\n",
       "    }\n",
       "\n",
       "    .dataframe tbody tr th {\n",
       "        vertical-align: top;\n",
       "    }\n",
       "\n",
       "    .dataframe thead th {\n",
       "        text-align: right;\n",
       "    }\n",
       "</style>\n",
       "<table border=\"1\" class=\"dataframe\">\n",
       "  <thead>\n",
       "    <tr style=\"text-align: right;\">\n",
       "      <th></th>\n",
       "      <th>Total.Fatal.Injuries</th>\n",
       "      <th>Total.Serious.Injuries</th>\n",
       "      <th>Total.Minor.Injuries</th>\n",
       "      <th>Total.Uninjured</th>\n",
       "      <th>Total_Injuries</th>\n",
       "      <th>Fatality_Rate</th>\n",
       "    </tr>\n",
       "    <tr>\n",
       "      <th>Weather.Condition</th>\n",
       "      <th></th>\n",
       "      <th></th>\n",
       "      <th></th>\n",
       "      <th></th>\n",
       "      <th></th>\n",
       "      <th></th>\n",
       "    </tr>\n",
       "  </thead>\n",
       "  <tbody>\n",
       "    <tr>\n",
       "      <th>IMC</th>\n",
       "      <td>11816.0</td>\n",
       "      <td>2148.0</td>\n",
       "      <td>2728.0</td>\n",
       "      <td>39684.0</td>\n",
       "      <td>16692.0</td>\n",
       "      <td>0.707884</td>\n",
       "    </tr>\n",
       "    <tr>\n",
       "      <th>UNK</th>\n",
       "      <td>12760.0</td>\n",
       "      <td>1764.0</td>\n",
       "      <td>1762.0</td>\n",
       "      <td>98003.0</td>\n",
       "      <td>16286.0</td>\n",
       "      <td>0.783495</td>\n",
       "    </tr>\n",
       "    <tr>\n",
       "      <th>VMC</th>\n",
       "      <td>25537.0</td>\n",
       "      <td>17434.0</td>\n",
       "      <td>22965.0</td>\n",
       "      <td>303370.0</td>\n",
       "      <td>65936.0</td>\n",
       "      <td>0.387300</td>\n",
       "    </tr>\n",
       "  </tbody>\n",
       "</table>\n",
       "</div>"
      ],
      "text/plain": [
       "                   Total.Fatal.Injuries  Total.Serious.Injuries  \\\n",
       "Weather.Condition                                                 \n",
       "IMC                             11816.0                  2148.0   \n",
       "UNK                             12760.0                  1764.0   \n",
       "VMC                             25537.0                 17434.0   \n",
       "\n",
       "                   Total.Minor.Injuries  Total.Uninjured  Total_Injuries  \\\n",
       "Weather.Condition                                                          \n",
       "IMC                              2728.0          39684.0         16692.0   \n",
       "UNK                              1762.0          98003.0         16286.0   \n",
       "VMC                             22965.0         303370.0         65936.0   \n",
       "\n",
       "                   Fatality_Rate  \n",
       "Weather.Condition                 \n",
       "IMC                     0.707884  \n",
       "UNK                     0.783495  \n",
       "VMC                     0.387300  "
      ]
     },
     "execution_count": 41,
     "metadata": {},
     "output_type": "execute_result"
    }
   ],
   "source": [
    "# Group by Weather.Condition\n",
    "weather_injuries = df.groupby('Weather.Condition')[injury_cols].sum()\n",
    "\n",
    "# Add Total Injuries column\n",
    "weather_injuries['Total_Injuries'] = (\n",
    "    weather_injuries['Total.Fatal.Injuries'] +\n",
    "    weather_injuries['Total.Serious.Injuries'] +\n",
    "    weather_injuries['Total.Minor.Injuries']\n",
    ")\n",
    "\n",
    "# Compute Fatality Rate per Weather\n",
    "weather_injuries['Fatality_Rate'] = (weather_injuries['Total.Fatal.Injuries'] / weather_injuries['Total_Injuries'])\n",
    "\n",
    "weather_injuries"
   ]
  },
  {
   "cell_type": "code",
   "execution_count": 42,
   "id": "8b52e7c9",
   "metadata": {},
   "outputs": [
    {
     "data": {
      "image/png": "[encoded data removed]",
      "text/plain": [
       "<Figure size 864x432 with 1 Axes>"
      ]
     },
     "metadata": {
      "needs_background": "light"
     },
     "output_type": "display_data"
    }
   ],
   "source": [
    "# Plot the distribution of injuries by weather condition\n",
    "weather_injuries_sorted = weather_injuries.sort_values('Fatality_Rate', ascending=False)\n",
    "\n",
    "plt.figure(figsize=(12,6))\n",
    "plt.bar(weather_injuries_sorted.index,weather_injuries_sorted['Fatality_Rate'],color='blue')\n",
    "\n",
    "plt.title(\"Fatality Rate by Weather Condition\")\n",
    "plt.xlabel(\"Weather Condition\")\n",
    "plt.ylabel(\"Fatality Rate (Fatal Injuries / Total Injuries)\")\n",
    "plt.show()"
   ]
  },
  {
   "cell_type": "markdown",
   "id": "33881711",
   "metadata": {},
   "source": [
    "- - VMC has the highest number of injuries occuring while IMC has the highest fatality rates\n",
    "- VMC sees the most accidents because it’s the most common flying condition, but most of these accidents are survivable, leading to a lower fatality rate.\n",
    "- IMC accidents are less but more fatal."
   ]
  },
  {
   "cell_type": "markdown",
   "id": "63b9cbf3",
   "metadata": {},
   "source": [
    "##### SEASONS"
   ]
  },
  {
   "cell_type": "code",
   "execution_count": 43,
   "id": "65e464a5",
   "metadata": {},
   "outputs": [
    {
     "data": {
      "text/html": [
       "<div>\n",
       "<style scoped>\n",
       "    .dataframe tbody tr th:only-of-type {\n",
       "        vertical-align: middle;\n",
       "    }\n",
       "\n",
       "    .dataframe tbody tr th {\n",
       "        vertical-align: top;\n",
       "    }\n",
       "\n",
       "    .dataframe thead th {\n",
       "        text-align: right;\n",
       "    }\n",
       "</style>\n",
       "<table border=\"1\" class=\"dataframe\">\n",
       "  <thead>\n",
       "    <tr style=\"text-align: right;\">\n",
       "      <th></th>\n",
       "      <th>Total.Fatal.Injuries</th>\n",
       "      <th>Total.Serious.Injuries</th>\n",
       "      <th>Total.Minor.Injuries</th>\n",
       "      <th>Total.Uninjured</th>\n",
       "      <th>Total_Injuries</th>\n",
       "      <th>Fatality_Rate</th>\n",
       "    </tr>\n",
       "    <tr>\n",
       "      <th>Season</th>\n",
       "      <th></th>\n",
       "      <th></th>\n",
       "      <th></th>\n",
       "      <th></th>\n",
       "      <th></th>\n",
       "      <th></th>\n",
       "    </tr>\n",
       "  </thead>\n",
       "  <tbody>\n",
       "    <tr>\n",
       "      <th>Fall</th>\n",
       "      <td>13277.0</td>\n",
       "      <td>5038.0</td>\n",
       "      <td>6170.0</td>\n",
       "      <td>99150.0</td>\n",
       "      <td>24485.0</td>\n",
       "      <td>0.542250</td>\n",
       "    </tr>\n",
       "    <tr>\n",
       "      <th>Spring</th>\n",
       "      <td>10975.0</td>\n",
       "      <td>4854.0</td>\n",
       "      <td>6434.0</td>\n",
       "      <td>108616.0</td>\n",
       "      <td>22263.0</td>\n",
       "      <td>0.492970</td>\n",
       "    </tr>\n",
       "    <tr>\n",
       "      <th>Summer</th>\n",
       "      <td>14665.0</td>\n",
       "      <td>7368.0</td>\n",
       "      <td>10089.0</td>\n",
       "      <td>134428.0</td>\n",
       "      <td>32122.0</td>\n",
       "      <td>0.456541</td>\n",
       "    </tr>\n",
       "    <tr>\n",
       "      <th>Winter</th>\n",
       "      <td>11196.0</td>\n",
       "      <td>4086.0</td>\n",
       "      <td>4762.0</td>\n",
       "      <td>98863.0</td>\n",
       "      <td>20044.0</td>\n",
       "      <td>0.558571</td>\n",
       "    </tr>\n",
       "  </tbody>\n",
       "</table>\n",
       "</div>"
      ],
      "text/plain": [
       "        Total.Fatal.Injuries  Total.Serious.Injuries  Total.Minor.Injuries  \\\n",
       "Season                                                                       \n",
       "Fall                 13277.0                  5038.0                6170.0   \n",
       "Spring               10975.0                  4854.0                6434.0   \n",
       "Summer               14665.0                  7368.0               10089.0   \n",
       "Winter               11196.0                  4086.0                4762.0   \n",
       "\n",
       "        Total.Uninjured  Total_Injuries  Fatality_Rate  \n",
       "Season                                                  \n",
       "Fall            99150.0         24485.0       0.542250  \n",
       "Spring         108616.0         22263.0       0.492970  \n",
       "Summer         134428.0         32122.0       0.456541  \n",
       "Winter          98863.0         20044.0       0.558571  "
      ]
     },
     "execution_count": 43,
     "metadata": {},
     "output_type": "execute_result"
    }
   ],
   "source": [
    "# Group injuries by seasons\n",
    "season_injuries = df.groupby('Season')[injury_cols].sum()\n",
    "\n",
    "# Add total injuries\n",
    "season_injuries['Total_Injuries'] = (\n",
    "    season_injuries['Total.Fatal.Injuries'] +\n",
    "    season_injuries['Total.Serious.Injuries'] +\n",
    "    season_injuries['Total.Minor.Injuries']\n",
    ")\n",
    "\n",
    "# Compute Fatality Rate\n",
    "season_injuries['Fatality_Rate'] = (season_injuries['Total.Fatal.Injuries'] / season_injuries['Total_Injuries'])\n",
    "\n",
    "season_injuries"
   ]
  },
  {
   "cell_type": "code",
   "execution_count": 44,
   "id": "e319bda1",
   "metadata": {},
   "outputs": [
    {
     "data": {
      "image/png": "[encoded data removed]",
      "text/plain": [
       "<Figure size 720x432 with 1 Axes>"
      ]
     },
     "metadata": {
      "needs_background": "light"
     },
     "output_type": "display_data"
    }
   ],
   "source": [
    "### Plot of each fatal, serious and minor injury by seasons\n",
    "plt.figure(figsize=(10,6))\n",
    "\n",
    "# Plot each injury type\n",
    "plt.plot(season_injuries.index, season_injuries['Total.Fatal.Injuries'], label='Fatal Injuries', color='red')\n",
    "plt.plot(season_injuries.index, season_injuries['Total.Serious.Injuries'], label='Serious Injuries', color='orange')\n",
    "plt.plot(season_injuries.index, season_injuries['Total.Minor.Injuries'], label='Minor Injuries', color='green')\n",
    "\n",
    "plt.title(\"Number of Injuries by Season\")\n",
    "plt.xlabel(\"Season\")\n",
    "plt.ylabel(\"Number of Injuries\")\n",
    "plt.grid(True, linestyle='--', alpha=0.5)\n",
    "plt.legend()\n",
    "plt.show()"
   ]
  },
  {
   "cell_type": "markdown",
   "id": "5c3eee23",
   "metadata": {},
   "source": [
    "As a result of more airline activity during summer than winter:\n",
    "- Summer sees more overall activity and accidents but a smaller proportion are fatal.\n",
    "\n",
    "- Winter and Fall see fewer accidents but a larger proportion result in fatalities."
   ]
  },
  {
   "cell_type": "code",
   "execution_count": 45,
   "id": "deae1a8b",
   "metadata": {},
   "outputs": [
    {
     "name": "stdout",
     "output_type": "stream",
     "text": [
      "Chi2=282.152, p=1.584e-55, dof=9\n"
     ]
    }
   ],
   "source": [
    "# Chi-Square to determine causation\n",
    "from scipy.stats import chi2_contingency\n",
    "\n",
    "# Crosstab fatality vs Engine.Type\n",
    "ct = pd.crosstab(df['Is_Fatal'], df['Engine.Type'])\n",
    "\n",
    "chi2, p, dof, expected = chi2_contingency(ct)\n",
    "\n",
    "print(f\"Chi2={chi2:.3f}, p={p:.3e}, dof={dof}\")\n",
    "\n",
    "\n",
    "# Null Hypothesis: There is no relationship between fatality and engine type\n",
    "# If p <= 0.05: reject null hypothesis"
   ]
  },
  {
   "cell_type": "markdown",
   "id": "76b92d8a",
   "metadata": {},
   "source": [
    "There is no significant relationship between engine type and whether an accident was fatal.\n",
    "That means the chance of an accident being fatal is random. The type of engine is not associated with fatal outcomes."
   ]
  },
  {
   "cell_type": "code",
   "execution_count": 46,
   "id": "8cc46244",
   "metadata": {},
   "outputs": [
    {
     "name": "stdout",
     "output_type": "stream",
     "text": [
      "Chi2=7339.423, p=0.000e+00, dof=2\n"
     ]
    }
   ],
   "source": [
    "# Crosstab fatality vs Weather.Condition\n",
    "ct = pd.crosstab(df['Is_Fatal'], df['Weather.Condition'])\n",
    "\n",
    "chi2, p, dof, expected = chi2_contingency(ct)\n",
    "\n",
    "print(f\"Chi2={chi2:.3f}, p={p:.3e}, dof={dof}\")\n",
    "\n",
    "\n",
    "# Null Hypothesis: There is no relationship between fatality and engine type\n",
    "# If p <= 0.05: reject null hypothesis"
   ]
  },
  {
   "cell_type": "markdown",
   "id": "bdecb316",
   "metadata": {},
   "source": [
    "There is a significant relationship between engine type and whether an accident was fatal.\n",
    "The weather condition is associated with fatal outcomes."
   ]
  },
  {
   "cell_type": "code",
   "execution_count": null,
   "id": "e10afb32",
   "metadata": {},
   "outputs": [],
   "source": [
    "# Save cleaned DataFrame to a new CSV\n",
    "## I will put it in .gitignore\n",
    "# df.to_csv('Aviation_Data.Cleaned.csv', index=False)"
   ]
  }
 ],
 "metadata": {
  "kernelspec": {
   "display_name": "learn-env",
   "language": "python",
   "name": "python3"
  },
  "language_info": {
   "codemirror_mode": {
    "name": "ipython",
    "version": 3
   },
   "file_extension": ".py",
   "mimetype": "text/x-python",
   "name": "python",
   "nbconvert_exporter": "python",
   "pygments_lexer": "ipython3",
   "version": "3.8.5"
  }
 },
 "nbformat": 4,
 "nbformat_minor": 5
}
