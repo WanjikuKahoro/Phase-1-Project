{
 "cells": [
  {
   "cell_type": "markdown",
   "id": "4281b362",
   "metadata": {},
   "source": [
    "# Aviation Accidents Data\n",
    "This is a Phase 1 Project that involves a csv file on aviation accidents between the year 1948-2022\n",
    "\n",
    "**Author:** Emma Kahoro \n",
    "**Date:** 29/09/2025  \n",
    "**Purpose:** This notebook performs a detailed analysis of aviation accident data, including accident counts, injuries and relationships with weather, months and countries.\n",
    "\n",
    "\n",
    "### Data Info\n",
    "The data is obtained from github as the assigned dataset [AVIATION](https://github.com/learn-co-curriculum/dsc-phase-1-project-v3/blob/master/data/Aviation_Data.csv), which contains data on aviation accidents for different aircrafts and airports.\n",
    "\n",
    "---\n",
    "The dataset contains records of aviation accidents and incidents, including the following key variables:\n",
    "\n",
    "- **Event.Date**: Date of the accident/incident  \n",
    "- **Country**: Country where the event occurred  \n",
    "- **Location**: Specific location of the event  \n",
    "- **Weather.Condition**: Weather at the time of the event (VMC = Visual Meteorological Conditions, IMC = Instrument Meteorological Conditions, UNK = Unknown)  \n",
    "- **Investigation.Type**: Type of investigation (Accident or Incident) \n",
    "- **Engine.Type**: The type of engine of the aircraft. \n",
    "- **Total.Fatal.Injuries**: Number of fatal injuries  \n",
    "- **Total.Serious.Injuries**: Number of serious injuries  \n",
    "- **Total.Minor.Injuries**: Number of minor injuries  \n",
    "\n",
    "---\n",
    "\n",
    "## Analysis Objectives\n",
    "\n",
    "1. Explore the distribution of accidents and incidents by **country, month and weather condition**.  \n",
    "2. Observe the trends in event occurence over **Years and Months**\n",
    "3. Identify **high-risk months and countries**.\n",
    "4. Examine why a certain month is **Highrisk**.\n",
    "5. Analyze the **relationship fatal injuries and factors** such as weather condition and engine type.   \n",
    "6. Examine whether accidents are more likely to be fatal under certain conditions.  \n",
    "7. Summarize findings in tables and visualizations for **insights into aviation safety**.\n",
    "\n",
    "---\n",
    "\n"
   ]
  },
  {
   "cell_type": "markdown",
   "id": "837d3054",
   "metadata": {},
   "source": [
    "### 1.1 **Import Libraries** and **Read Dataset**\n",
    "- Load Python libraries for data manipulation and visualization.\n",
    "- Load the CSV file containing accident and incident records."
   ]
  },
  {
   "cell_type": "code",
   "execution_count": 489,
   "id": "0fd319e2",
   "metadata": {},
   "outputs": [],
   "source": [
    "# Import Libraries\n",
    "import pandas as pd\n",
    "import numpy as np\n",
    "import matplotlib.pyplot as plt\n",
    "import seaborn as sns\n",
    "\n",
    "%matplotlib inline"
   ]
  },
  {
   "cell_type": "code",
   "execution_count": 490,
   "id": "9b8f2ebf",
   "metadata": {},
   "outputs": [],
   "source": [
    "# Read the dataset\n",
    "df = pd.read_csv(\"Aviation_Data.csv\", low_memory=False)"
   ]
  },
  {
   "cell_type": "markdown",
   "id": "bf319cd6",
   "metadata": {},
   "source": [
    "### 1.2 Inspect the data\n",
    "Taking a look at the data to get a general sense of what the DataFrame is about.\n",
    "Inspect the first few rows, check column types, and understand the dataset structure. "
   ]
  },
  {
   "cell_type": "code",
   "execution_count": 491,
   "id": "642be113",
   "metadata": {},
   "outputs": [
    {
     "data": {
      "text/html": [
       "<div>\n",
       "<style scoped>\n",
       "    .dataframe tbody tr th:only-of-type {\n",
       "        vertical-align: middle;\n",
       "    }\n",
       "\n",
       "    .dataframe tbody tr th {\n",
       "        vertical-align: top;\n",
       "    }\n",
       "\n",
       "    .dataframe thead th {\n",
       "        text-align: right;\n",
       "    }\n",
       "</style>\n",
       "<table border=\"1\" class=\"dataframe\">\n",
       "  <thead>\n",
       "    <tr style=\"text-align: right;\">\n",
       "      <th></th>\n",
       "      <th>Event.Id</th>\n",
       "      <th>Investigation.Type</th>\n",
       "      <th>Accident.Number</th>\n",
       "      <th>Event.Date</th>\n",
       "      <th>Location</th>\n",
       "      <th>Country</th>\n",
       "      <th>Latitude</th>\n",
       "      <th>Longitude</th>\n",
       "      <th>Airport.Code</th>\n",
       "      <th>Airport.Name</th>\n",
       "      <th>...</th>\n",
       "      <th>Purpose.of.flight</th>\n",
       "      <th>Air.carrier</th>\n",
       "      <th>Total.Fatal.Injuries</th>\n",
       "      <th>Total.Serious.Injuries</th>\n",
       "      <th>Total.Minor.Injuries</th>\n",
       "      <th>Total.Uninjured</th>\n",
       "      <th>Weather.Condition</th>\n",
       "      <th>Broad.phase.of.flight</th>\n",
       "      <th>Report.Status</th>\n",
       "      <th>Publication.Date</th>\n",
       "    </tr>\n",
       "  </thead>\n",
       "  <tbody>\n",
       "    <tr>\n",
       "      <th>0</th>\n",
       "      <td>20001218X45444</td>\n",
       "      <td>Accident</td>\n",
       "      <td>SEA87LA080</td>\n",
       "      <td>1948-10-24</td>\n",
       "      <td>MOOSE CREEK, ID</td>\n",
       "      <td>United States</td>\n",
       "      <td>NaN</td>\n",
       "      <td>NaN</td>\n",
       "      <td>NaN</td>\n",
       "      <td>NaN</td>\n",
       "      <td>...</td>\n",
       "      <td>Personal</td>\n",
       "      <td>NaN</td>\n",
       "      <td>2.0</td>\n",
       "      <td>0.0</td>\n",
       "      <td>0.0</td>\n",
       "      <td>0.0</td>\n",
       "      <td>UNK</td>\n",
       "      <td>Cruise</td>\n",
       "      <td>Probable Cause</td>\n",
       "      <td>NaN</td>\n",
       "    </tr>\n",
       "    <tr>\n",
       "      <th>1</th>\n",
       "      <td>20001218X45447</td>\n",
       "      <td>Accident</td>\n",
       "      <td>LAX94LA336</td>\n",
       "      <td>1962-07-19</td>\n",
       "      <td>BRIDGEPORT, CA</td>\n",
       "      <td>United States</td>\n",
       "      <td>NaN</td>\n",
       "      <td>NaN</td>\n",
       "      <td>NaN</td>\n",
       "      <td>NaN</td>\n",
       "      <td>...</td>\n",
       "      <td>Personal</td>\n",
       "      <td>NaN</td>\n",
       "      <td>4.0</td>\n",
       "      <td>0.0</td>\n",
       "      <td>0.0</td>\n",
       "      <td>0.0</td>\n",
       "      <td>UNK</td>\n",
       "      <td>Unknown</td>\n",
       "      <td>Probable Cause</td>\n",
       "      <td>19-09-1996</td>\n",
       "    </tr>\n",
       "    <tr>\n",
       "      <th>2</th>\n",
       "      <td>20061025X01555</td>\n",
       "      <td>Accident</td>\n",
       "      <td>NYC07LA005</td>\n",
       "      <td>1974-08-30</td>\n",
       "      <td>Saltville, VA</td>\n",
       "      <td>United States</td>\n",
       "      <td>36.922223</td>\n",
       "      <td>-81.878056</td>\n",
       "      <td>NaN</td>\n",
       "      <td>NaN</td>\n",
       "      <td>...</td>\n",
       "      <td>Personal</td>\n",
       "      <td>NaN</td>\n",
       "      <td>3.0</td>\n",
       "      <td>NaN</td>\n",
       "      <td>NaN</td>\n",
       "      <td>NaN</td>\n",
       "      <td>IMC</td>\n",
       "      <td>Cruise</td>\n",
       "      <td>Probable Cause</td>\n",
       "      <td>26-02-2007</td>\n",
       "    </tr>\n",
       "    <tr>\n",
       "      <th>3</th>\n",
       "      <td>20001218X45448</td>\n",
       "      <td>Accident</td>\n",
       "      <td>LAX96LA321</td>\n",
       "      <td>1977-06-19</td>\n",
       "      <td>EUREKA, CA</td>\n",
       "      <td>United States</td>\n",
       "      <td>NaN</td>\n",
       "      <td>NaN</td>\n",
       "      <td>NaN</td>\n",
       "      <td>NaN</td>\n",
       "      <td>...</td>\n",
       "      <td>Personal</td>\n",
       "      <td>NaN</td>\n",
       "      <td>2.0</td>\n",
       "      <td>0.0</td>\n",
       "      <td>0.0</td>\n",
       "      <td>0.0</td>\n",
       "      <td>IMC</td>\n",
       "      <td>Cruise</td>\n",
       "      <td>Probable Cause</td>\n",
       "      <td>12-09-2000</td>\n",
       "    </tr>\n",
       "    <tr>\n",
       "      <th>4</th>\n",
       "      <td>20041105X01764</td>\n",
       "      <td>Accident</td>\n",
       "      <td>CHI79FA064</td>\n",
       "      <td>1979-08-02</td>\n",
       "      <td>Canton, OH</td>\n",
       "      <td>United States</td>\n",
       "      <td>NaN</td>\n",
       "      <td>NaN</td>\n",
       "      <td>NaN</td>\n",
       "      <td>NaN</td>\n",
       "      <td>...</td>\n",
       "      <td>Personal</td>\n",
       "      <td>NaN</td>\n",
       "      <td>1.0</td>\n",
       "      <td>2.0</td>\n",
       "      <td>NaN</td>\n",
       "      <td>0.0</td>\n",
       "      <td>VMC</td>\n",
       "      <td>Approach</td>\n",
       "      <td>Probable Cause</td>\n",
       "      <td>16-04-1980</td>\n",
       "    </tr>\n",
       "  </tbody>\n",
       "</table>\n",
       "<p>5 rows × 31 columns</p>\n",
       "</div>"
      ],
      "text/plain": [
       "         Event.Id Investigation.Type Accident.Number  Event.Date  \\\n",
       "0  20001218X45444           Accident      SEA87LA080  1948-10-24   \n",
       "1  20001218X45447           Accident      LAX94LA336  1962-07-19   \n",
       "2  20061025X01555           Accident      NYC07LA005  1974-08-30   \n",
       "3  20001218X45448           Accident      LAX96LA321  1977-06-19   \n",
       "4  20041105X01764           Accident      CHI79FA064  1979-08-02   \n",
       "\n",
       "          Location        Country   Latitude   Longitude Airport.Code  \\\n",
       "0  MOOSE CREEK, ID  United States        NaN         NaN          NaN   \n",
       "1   BRIDGEPORT, CA  United States        NaN         NaN          NaN   \n",
       "2    Saltville, VA  United States  36.922223  -81.878056          NaN   \n",
       "3       EUREKA, CA  United States        NaN         NaN          NaN   \n",
       "4       Canton, OH  United States        NaN         NaN          NaN   \n",
       "\n",
       "  Airport.Name  ... Purpose.of.flight Air.carrier Total.Fatal.Injuries  \\\n",
       "0          NaN  ...          Personal         NaN                  2.0   \n",
       "1          NaN  ...          Personal         NaN                  4.0   \n",
       "2          NaN  ...          Personal         NaN                  3.0   \n",
       "3          NaN  ...          Personal         NaN                  2.0   \n",
       "4          NaN  ...          Personal         NaN                  1.0   \n",
       "\n",
       "  Total.Serious.Injuries Total.Minor.Injuries Total.Uninjured  \\\n",
       "0                    0.0                  0.0             0.0   \n",
       "1                    0.0                  0.0             0.0   \n",
       "2                    NaN                  NaN             NaN   \n",
       "3                    0.0                  0.0             0.0   \n",
       "4                    2.0                  NaN             0.0   \n",
       "\n",
       "  Weather.Condition  Broad.phase.of.flight   Report.Status Publication.Date  \n",
       "0               UNK                 Cruise  Probable Cause              NaN  \n",
       "1               UNK                Unknown  Probable Cause       19-09-1996  \n",
       "2               IMC                 Cruise  Probable Cause       26-02-2007  \n",
       "3               IMC                 Cruise  Probable Cause       12-09-2000  \n",
       "4               VMC               Approach  Probable Cause       16-04-1980  \n",
       "\n",
       "[5 rows x 31 columns]"
      ]
     },
     "execution_count": 491,
     "metadata": {},
     "output_type": "execute_result"
    }
   ],
   "source": [
    "df.head()"
   ]
  },
  {
   "cell_type": "code",
   "execution_count": 492,
   "id": "48c0e23f",
   "metadata": {},
   "outputs": [
    {
     "data": {
      "text/html": [
       "<div>\n",
       "<style scoped>\n",
       "    .dataframe tbody tr th:only-of-type {\n",
       "        vertical-align: middle;\n",
       "    }\n",
       "\n",
       "    .dataframe tbody tr th {\n",
       "        vertical-align: top;\n",
       "    }\n",
       "\n",
       "    .dataframe thead th {\n",
       "        text-align: right;\n",
       "    }\n",
       "</style>\n",
       "<table border=\"1\" class=\"dataframe\">\n",
       "  <thead>\n",
       "    <tr style=\"text-align: right;\">\n",
       "      <th></th>\n",
       "      <th>Event.Id</th>\n",
       "      <th>Investigation.Type</th>\n",
       "      <th>Accident.Number</th>\n",
       "      <th>Event.Date</th>\n",
       "      <th>Location</th>\n",
       "      <th>Country</th>\n",
       "      <th>Latitude</th>\n",
       "      <th>Longitude</th>\n",
       "      <th>Airport.Code</th>\n",
       "      <th>Airport.Name</th>\n",
       "      <th>...</th>\n",
       "      <th>Purpose.of.flight</th>\n",
       "      <th>Air.carrier</th>\n",
       "      <th>Total.Fatal.Injuries</th>\n",
       "      <th>Total.Serious.Injuries</th>\n",
       "      <th>Total.Minor.Injuries</th>\n",
       "      <th>Total.Uninjured</th>\n",
       "      <th>Weather.Condition</th>\n",
       "      <th>Broad.phase.of.flight</th>\n",
       "      <th>Report.Status</th>\n",
       "      <th>Publication.Date</th>\n",
       "    </tr>\n",
       "  </thead>\n",
       "  <tbody>\n",
       "    <tr>\n",
       "      <th>90343</th>\n",
       "      <td>20221227106491</td>\n",
       "      <td>Accident</td>\n",
       "      <td>ERA23LA093</td>\n",
       "      <td>2022-12-26</td>\n",
       "      <td>Annapolis, MD</td>\n",
       "      <td>United States</td>\n",
       "      <td>NaN</td>\n",
       "      <td>NaN</td>\n",
       "      <td>NaN</td>\n",
       "      <td>NaN</td>\n",
       "      <td>...</td>\n",
       "      <td>Personal</td>\n",
       "      <td>NaN</td>\n",
       "      <td>0.0</td>\n",
       "      <td>1.0</td>\n",
       "      <td>0.0</td>\n",
       "      <td>0.0</td>\n",
       "      <td>NaN</td>\n",
       "      <td>NaN</td>\n",
       "      <td>NaN</td>\n",
       "      <td>29-12-2022</td>\n",
       "    </tr>\n",
       "    <tr>\n",
       "      <th>90344</th>\n",
       "      <td>20221227106494</td>\n",
       "      <td>Accident</td>\n",
       "      <td>ERA23LA095</td>\n",
       "      <td>2022-12-26</td>\n",
       "      <td>Hampton, NH</td>\n",
       "      <td>United States</td>\n",
       "      <td>NaN</td>\n",
       "      <td>NaN</td>\n",
       "      <td>NaN</td>\n",
       "      <td>NaN</td>\n",
       "      <td>...</td>\n",
       "      <td>NaN</td>\n",
       "      <td>NaN</td>\n",
       "      <td>0.0</td>\n",
       "      <td>0.0</td>\n",
       "      <td>0.0</td>\n",
       "      <td>0.0</td>\n",
       "      <td>NaN</td>\n",
       "      <td>NaN</td>\n",
       "      <td>NaN</td>\n",
       "      <td>NaN</td>\n",
       "    </tr>\n",
       "    <tr>\n",
       "      <th>90345</th>\n",
       "      <td>20221227106497</td>\n",
       "      <td>Accident</td>\n",
       "      <td>WPR23LA075</td>\n",
       "      <td>2022-12-26</td>\n",
       "      <td>Payson, AZ</td>\n",
       "      <td>United States</td>\n",
       "      <td>341525N</td>\n",
       "      <td>1112021W</td>\n",
       "      <td>PAN</td>\n",
       "      <td>PAYSON</td>\n",
       "      <td>...</td>\n",
       "      <td>Personal</td>\n",
       "      <td>NaN</td>\n",
       "      <td>0.0</td>\n",
       "      <td>0.0</td>\n",
       "      <td>0.0</td>\n",
       "      <td>1.0</td>\n",
       "      <td>VMC</td>\n",
       "      <td>NaN</td>\n",
       "      <td>NaN</td>\n",
       "      <td>27-12-2022</td>\n",
       "    </tr>\n",
       "    <tr>\n",
       "      <th>90346</th>\n",
       "      <td>20221227106498</td>\n",
       "      <td>Accident</td>\n",
       "      <td>WPR23LA076</td>\n",
       "      <td>2022-12-26</td>\n",
       "      <td>Morgan, UT</td>\n",
       "      <td>United States</td>\n",
       "      <td>NaN</td>\n",
       "      <td>NaN</td>\n",
       "      <td>NaN</td>\n",
       "      <td>NaN</td>\n",
       "      <td>...</td>\n",
       "      <td>Personal</td>\n",
       "      <td>MC CESSNA 210N LLC</td>\n",
       "      <td>0.0</td>\n",
       "      <td>0.0</td>\n",
       "      <td>0.0</td>\n",
       "      <td>0.0</td>\n",
       "      <td>NaN</td>\n",
       "      <td>NaN</td>\n",
       "      <td>NaN</td>\n",
       "      <td>NaN</td>\n",
       "    </tr>\n",
       "    <tr>\n",
       "      <th>90347</th>\n",
       "      <td>20221230106513</td>\n",
       "      <td>Accident</td>\n",
       "      <td>ERA23LA097</td>\n",
       "      <td>2022-12-29</td>\n",
       "      <td>Athens, GA</td>\n",
       "      <td>United States</td>\n",
       "      <td>NaN</td>\n",
       "      <td>NaN</td>\n",
       "      <td>NaN</td>\n",
       "      <td>NaN</td>\n",
       "      <td>...</td>\n",
       "      <td>Personal</td>\n",
       "      <td>NaN</td>\n",
       "      <td>0.0</td>\n",
       "      <td>1.0</td>\n",
       "      <td>0.0</td>\n",
       "      <td>1.0</td>\n",
       "      <td>NaN</td>\n",
       "      <td>NaN</td>\n",
       "      <td>NaN</td>\n",
       "      <td>30-12-2022</td>\n",
       "    </tr>\n",
       "  </tbody>\n",
       "</table>\n",
       "<p>5 rows × 31 columns</p>\n",
       "</div>"
      ],
      "text/plain": [
       "             Event.Id Investigation.Type Accident.Number  Event.Date  \\\n",
       "90343  20221227106491           Accident      ERA23LA093  2022-12-26   \n",
       "90344  20221227106494           Accident      ERA23LA095  2022-12-26   \n",
       "90345  20221227106497           Accident      WPR23LA075  2022-12-26   \n",
       "90346  20221227106498           Accident      WPR23LA076  2022-12-26   \n",
       "90347  20221230106513           Accident      ERA23LA097  2022-12-29   \n",
       "\n",
       "            Location        Country Latitude Longitude Airport.Code  \\\n",
       "90343  Annapolis, MD  United States      NaN       NaN          NaN   \n",
       "90344    Hampton, NH  United States      NaN       NaN          NaN   \n",
       "90345     Payson, AZ  United States  341525N  1112021W          PAN   \n",
       "90346     Morgan, UT  United States      NaN       NaN          NaN   \n",
       "90347     Athens, GA  United States      NaN       NaN          NaN   \n",
       "\n",
       "      Airport.Name  ... Purpose.of.flight         Air.carrier  \\\n",
       "90343          NaN  ...          Personal                 NaN   \n",
       "90344          NaN  ...               NaN                 NaN   \n",
       "90345       PAYSON  ...          Personal                 NaN   \n",
       "90346          NaN  ...          Personal  MC CESSNA 210N LLC   \n",
       "90347          NaN  ...          Personal                 NaN   \n",
       "\n",
       "      Total.Fatal.Injuries Total.Serious.Injuries Total.Minor.Injuries  \\\n",
       "90343                  0.0                    1.0                  0.0   \n",
       "90344                  0.0                    0.0                  0.0   \n",
       "90345                  0.0                    0.0                  0.0   \n",
       "90346                  0.0                    0.0                  0.0   \n",
       "90347                  0.0                    1.0                  0.0   \n",
       "\n",
       "      Total.Uninjured Weather.Condition  Broad.phase.of.flight Report.Status  \\\n",
       "90343             0.0               NaN                    NaN           NaN   \n",
       "90344             0.0               NaN                    NaN           NaN   \n",
       "90345             1.0               VMC                    NaN           NaN   \n",
       "90346             0.0               NaN                    NaN           NaN   \n",
       "90347             1.0               NaN                    NaN           NaN   \n",
       "\n",
       "      Publication.Date  \n",
       "90343       29-12-2022  \n",
       "90344              NaN  \n",
       "90345       27-12-2022  \n",
       "90346              NaN  \n",
       "90347       30-12-2022  \n",
       "\n",
       "[5 rows x 31 columns]"
      ]
     },
     "execution_count": 492,
     "metadata": {},
     "output_type": "execute_result"
    }
   ],
   "source": [
    "df.tail()"
   ]
  },
  {
   "cell_type": "code",
   "execution_count": 493,
   "id": "a070b112",
   "metadata": {},
   "outputs": [
    {
     "name": "stdout",
     "output_type": "stream",
     "text": [
      "(90348, 31)\n",
      "Index(['Event.Id', 'Investigation.Type', 'Accident.Number', 'Event.Date',\n",
      "       'Location', 'Country', 'Latitude', 'Longitude', 'Airport.Code',\n",
      "       'Airport.Name', 'Injury.Severity', 'Aircraft.damage',\n",
      "       'Aircraft.Category', 'Registration.Number', 'Make', 'Model',\n",
      "       'Amateur.Built', 'Number.of.Engines', 'Engine.Type', 'FAR.Description',\n",
      "       'Schedule', 'Purpose.of.flight', 'Air.carrier', 'Total.Fatal.Injuries',\n",
      "       'Total.Serious.Injuries', 'Total.Minor.Injuries', 'Total.Uninjured',\n",
      "       'Weather.Condition', 'Broad.phase.of.flight', 'Report.Status',\n",
      "       'Publication.Date'],\n",
      "      dtype='object')\n"
     ]
    }
   ],
   "source": [
    "print(df.shape)\n",
    "print(df.columns)"
   ]
  },
  {
   "cell_type": "code",
   "execution_count": 494,
   "id": "6c13504c",
   "metadata": {},
   "outputs": [
    {
     "name": "stdout",
     "output_type": "stream",
     "text": [
      "<class 'pandas.core.frame.DataFrame'>\n",
      "RangeIndex: 90348 entries, 0 to 90347\n",
      "Data columns (total 31 columns):\n",
      " #   Column                  Non-Null Count  Dtype  \n",
      "---  ------                  --------------  -----  \n",
      " 0   Event.Id                88889 non-null  object \n",
      " 1   Investigation.Type      90348 non-null  object \n",
      " 2   Accident.Number         88889 non-null  object \n",
      " 3   Event.Date              88889 non-null  object \n",
      " 4   Location                88837 non-null  object \n",
      " 5   Country                 88663 non-null  object \n",
      " 6   Latitude                34382 non-null  object \n",
      " 7   Longitude               34373 non-null  object \n",
      " 8   Airport.Code            50249 non-null  object \n",
      " 9   Airport.Name            52790 non-null  object \n",
      " 10  Injury.Severity         87889 non-null  object \n",
      " 11  Aircraft.damage         85695 non-null  object \n",
      " 12  Aircraft.Category       32287 non-null  object \n",
      " 13  Registration.Number     87572 non-null  object \n",
      " 14  Make                    88826 non-null  object \n",
      " 15  Model                   88797 non-null  object \n",
      " 16  Amateur.Built           88787 non-null  object \n",
      " 17  Number.of.Engines       82805 non-null  float64\n",
      " 18  Engine.Type             81812 non-null  object \n",
      " 19  FAR.Description         32023 non-null  object \n",
      " 20  Schedule                12582 non-null  object \n",
      " 21  Purpose.of.flight       82697 non-null  object \n",
      " 22  Air.carrier             16648 non-null  object \n",
      " 23  Total.Fatal.Injuries    77488 non-null  float64\n",
      " 24  Total.Serious.Injuries  76379 non-null  float64\n",
      " 25  Total.Minor.Injuries    76956 non-null  float64\n",
      " 26  Total.Uninjured         82977 non-null  float64\n",
      " 27  Weather.Condition       84397 non-null  object \n",
      " 28  Broad.phase.of.flight   61724 non-null  object \n",
      " 29  Report.Status           82508 non-null  object \n",
      " 30  Publication.Date        73659 non-null  object \n",
      "dtypes: float64(5), object(26)\n",
      "memory usage: 21.4+ MB\n"
     ]
    }
   ],
   "source": [
    "df.info()"
   ]
  },
  {
   "cell_type": "markdown",
   "id": "5046fa1d",
   "metadata": {},
   "source": [
    "#### Summary of the Data\n",
    "The general description from the df is;\n",
    "- There are 90348 rows and 31 columns\n",
    "- Columns have numerical and string data types\n",
    "- There are missing values in most of the columns with only one column complete\n",
    "- 4 columns are float datatype\n",
    "- The data is messy and needs cleaning"
   ]
  },
  {
   "cell_type": "markdown",
   "id": "dde795ec",
   "metadata": {},
   "source": [
    "### 2.0 **Data Cleaning and Transformation** \n",
    "Rectify the date datatype, handle missing values, remove duplicate values and create new columns (e.g., Year, Month).  "
   ]
  },
  {
   "cell_type": "markdown",
   "id": "a9688046",
   "metadata": {},
   "source": [
    "#### 2.1 Handling missing data and Duplicates"
   ]
  },
  {
   "cell_type": "code",
   "execution_count": 495,
   "id": "f0764ab6",
   "metadata": {},
   "outputs": [
    {
     "data": {
      "text/plain": [
       "Event.Id                      0\n",
       "Investigation.Type            0\n",
       "Accident.Number               0\n",
       "Event.Date                    0\n",
       "Location                     52\n",
       "Make                         63\n",
       "Model                        92\n",
       "Amateur.Built               102\n",
       "Country                     226\n",
       "Injury.Severity            1000\n",
       "Registration.Number        1317\n",
       "Aircraft.damage            3194\n",
       "Weather.Condition          4492\n",
       "Total.Uninjured            5912\n",
       "Number.of.Engines          6084\n",
       "Purpose.of.flight          6192\n",
       "Report.Status              6381\n",
       "Engine.Type                7077\n",
       "Total.Fatal.Injuries      11401\n",
       "Total.Minor.Injuries      11933\n",
       "Total.Serious.Injuries    12510\n",
       "Publication.Date          15230\n",
       "Broad.phase.of.flight     27165\n",
       "Airport.Name              36099\n",
       "Airport.Code              38640\n",
       "Latitude                  54507\n",
       "Longitude                 54516\n",
       "Aircraft.Category         56602\n",
       "FAR.Description           56866\n",
       "Air.carrier               72241\n",
       "Schedule                  76307\n",
       "dtype: int64"
      ]
     },
     "execution_count": 495,
     "metadata": {},
     "output_type": "execute_result"
    }
   ],
   "source": [
    "# See how many null values are in each column\n",
    "df.isna().sum().sort_values()\n",
    "\n",
    "# Event.Id has 1459 null values\n",
    "# Drop rows where Event.Id is missing\n",
    "df = df.dropna(subset=['Event.Id'])\n",
    "\n",
    "# Check again\n",
    "df.isna().sum().sort_values()\n"
   ]
  },
  {
   "cell_type": "code",
   "execution_count": 496,
   "id": "4131f837",
   "metadata": {},
   "outputs": [
    {
     "data": {
      "text/plain": [
       "88889"
      ]
     },
     "execution_count": 496,
     "metadata": {},
     "output_type": "execute_result"
    }
   ],
   "source": [
    "df.shape[0]"
   ]
  },
  {
   "cell_type": "code",
   "execution_count": 497,
   "id": "d9317dde",
   "metadata": {},
   "outputs": [
    {
     "name": "stdout",
     "output_type": "stream",
     "text": [
      "Number of duplicates: 938\n"
     ]
    },
    {
     "data": {
      "text/plain": [
       "87951"
      ]
     },
     "execution_count": 497,
     "metadata": {},
     "output_type": "execute_result"
    }
   ],
   "source": [
    "# Check duplicates across 3 columns\n",
    "duplicates = df[df.duplicated(subset=['Event.Id', 'Country', 'Event.Date'])]\n",
    "print(\"Number of duplicates:\", duplicates.shape[0])\n",
    "\n",
    "# Drop duplicates across the 3 columns\n",
    "df = df.drop_duplicates(subset=['Event.Id', 'Country', 'Event.Date'], keep='first')#keep the first event\n",
    "df.shape[0]\n"
   ]
  },
  {
   "cell_type": "markdown",
   "id": "906b9399",
   "metadata": {},
   "source": [
    "#### 2.2 Cleaning the Weather Condition Column\n",
    "- Replace all missing values with unknown to show whether unknown has a significance in accidents"
   ]
  },
  {
   "cell_type": "code",
   "execution_count": 498,
   "id": "b7646dd8",
   "metadata": {},
   "outputs": [
    {
     "data": {
      "text/plain": [
       "VMC    76417\n",
       "IMC     5949\n",
       "UNK     5585\n",
       "Name: Weather.Condition, dtype: int64"
      ]
     },
     "execution_count": 498,
     "metadata": {},
     "output_type": "execute_result"
    }
   ],
   "source": [
    "df['Weather.Condition'].value_counts()\n",
    "\n",
    "# There is UNK and Unk both for unknown\n",
    "# make the categories case sensitive\n",
    "df['Weather.Condition'] = df['Weather.Condition'].str.strip().str.upper()\n",
    "\n",
    "df['Weather.Condition'].isnull().sum()\n",
    "\n",
    "# Replace the missing values(4492) with UNK for Unknown\n",
    "df['Weather.Condition'].fillna('UNK', inplace=True)\n",
    "df['Weather.Condition'].value_counts()"
   ]
  },
  {
   "cell_type": "markdown",
   "id": "2fe608ec",
   "metadata": {},
   "source": [
    "#### 2.3 Changing the Event.Date column to date-time datatype\n",
    "- Change the datatype\n",
    "- Create a new column of seasons"
   ]
  },
  {
   "cell_type": "code",
   "execution_count": 499,
   "id": "4c0627f1",
   "metadata": {},
   "outputs": [
    {
     "name": "stdout",
     "output_type": "stream",
     "text": [
      "datetime64[ns]\n"
     ]
    },
    {
     "data": {
      "text/html": [
       "<div>\n",
       "<style scoped>\n",
       "    .dataframe tbody tr th:only-of-type {\n",
       "        vertical-align: middle;\n",
       "    }\n",
       "\n",
       "    .dataframe tbody tr th {\n",
       "        vertical-align: top;\n",
       "    }\n",
       "\n",
       "    .dataframe thead th {\n",
       "        text-align: right;\n",
       "    }\n",
       "</style>\n",
       "<table border=\"1\" class=\"dataframe\">\n",
       "  <thead>\n",
       "    <tr style=\"text-align: right;\">\n",
       "      <th></th>\n",
       "      <th>Year</th>\n",
       "      <th>Month</th>\n",
       "    </tr>\n",
       "  </thead>\n",
       "  <tbody>\n",
       "    <tr>\n",
       "      <th>0</th>\n",
       "      <td>1948</td>\n",
       "      <td>Oct</td>\n",
       "    </tr>\n",
       "    <tr>\n",
       "      <th>1</th>\n",
       "      <td>1962</td>\n",
       "      <td>Jul</td>\n",
       "    </tr>\n",
       "    <tr>\n",
       "      <th>2</th>\n",
       "      <td>1974</td>\n",
       "      <td>Aug</td>\n",
       "    </tr>\n",
       "    <tr>\n",
       "      <th>3</th>\n",
       "      <td>1977</td>\n",
       "      <td>Jun</td>\n",
       "    </tr>\n",
       "    <tr>\n",
       "      <th>4</th>\n",
       "      <td>1979</td>\n",
       "      <td>Aug</td>\n",
       "    </tr>\n",
       "  </tbody>\n",
       "</table>\n",
       "</div>"
      ],
      "text/plain": [
       "   Year Month\n",
       "0  1948   Oct\n",
       "1  1962   Jul\n",
       "2  1974   Aug\n",
       "3  1977   Jun\n",
       "4  1979   Aug"
      ]
     },
     "execution_count": 499,
     "metadata": {},
     "output_type": "execute_result"
    }
   ],
   "source": [
    "# Convert the columm data type do date.time \n",
    "df['Event.Date'] = pd.to_datetime(df['Event.Date'])\n",
    "\n",
    "print(df['Event.Date'].dtype)\n",
    "\n",
    "# Extract Year and Month(Abbreviation) and observe if they correspond correctly\n",
    "df['Year'] = df['Event.Date'].dt.year\n",
    "df['Month'] = df['Event.Date'].dt.strftime('%b')\n",
    "\n",
    "df[['Year', 'Month']].head()\n"
   ]
  },
  {
   "cell_type": "code",
   "execution_count": 500,
   "id": "a5215dad",
   "metadata": {},
   "outputs": [
    {
     "data": {
      "text/plain": [
       "Summer    29944\n",
       "Spring    22210\n",
       "Fall      20627\n",
       "Winter    15170\n",
       "Name: Season, dtype: int64"
      ]
     },
     "execution_count": 500,
     "metadata": {},
     "output_type": "execute_result"
    }
   ],
   "source": [
    "# Define seasons\n",
    "def get_season(Month):\n",
    "    if Month in ['Dec', 'Jan', 'Feb']:\n",
    "        return 'Winter'\n",
    "    elif Month in ['Mar', 'Apr', 'May']:\n",
    "        return 'Spring'\n",
    "    elif Month in ['Jun', 'Jul', 'Aug']:\n",
    "        return 'Summer'\n",
    "    else:\n",
    "        return 'Fall'\n",
    "\n",
    "# Create season column\n",
    "df['Season'] = df['Month'].apply(get_season)\n",
    "df['Season'].value_counts()"
   ]
  },
  {
   "cell_type": "markdown",
   "id": "9246fa9b",
   "metadata": {},
   "source": [
    "#### 2.4 Clean the Location Column and the Country Column\n",
    "- Drop rows where both Country and Location are missing\n",
    "- Ensure the the row items are case sensitive to remove duplicates\n",
    "- Replace rows with missing Location and Country to `Unknown`"
   ]
  },
  {
   "cell_type": "code",
   "execution_count": 501,
   "id": "4120e2f2",
   "metadata": {},
   "outputs": [
    {
     "name": "stdout",
     "output_type": "stream",
     "text": [
      "Number of rows missing both Country and Location: 1\n"
     ]
    }
   ],
   "source": [
    "# Count rows where both Country and Location are missing\n",
    "missing_both = df[df['Country'].isnull() & df['Location'].isnull()]\n",
    "print(\"Number of rows missing both Country and Location:\", missing_both.shape[0])\n",
    "\n",
    "# Drop rows where BOTH Country and Location are missing(1 Row)\n",
    "df = df.dropna(subset=['Country', 'Location'], how='all')\n"
   ]
  },
  {
   "cell_type": "code",
   "execution_count": 502,
   "id": "c92eae81",
   "metadata": {},
   "outputs": [],
   "source": [
    "# Cleaning the Location Column\n",
    "df['Location'].value_counts()\n",
    "\n",
    "# Strip extra spaces and standardize to Title\n",
    "df['Location'] = df['Location'].str.title().str.strip()\n",
    "\n",
    "# Rename the missing location as `Unknown`\n",
    "df['Location'].fillna('Unknown', inplace=True)\n",
    "\n",
    "df['Location'].isna().sum() # Check for missing data\n",
    "\n",
    "# Separate the known from the unknown locations\n",
    "df_known_location = df[df[\"Location\"] != \"Unknown\"]"
   ]
  },
  {
   "cell_type": "code",
   "execution_count": 503,
   "id": "41a7cc68",
   "metadata": {},
   "outputs": [],
   "source": [
    "# Cleaning the Country Column\n",
    "df['Country'].value_counts(dropna=False).head(20)\n",
    "\n",
    "# Strip extra spaces and standardize capitalization \n",
    "df['Country'] = df['Country'].str.strip().str.title()\n",
    "\n",
    "# # Fill missing country values with 'Unknown'\n",
    "df['Country'].fillna('Unknown', inplace=True)\n",
    "\n",
    "df['Country'].isna().sum() # Check for missing values\n",
    "\n",
    "# # Separate the known from the unknown Country\n",
    "df_known_country = df[df[\"Country\"] != \"Unknown\"]"
   ]
  },
  {
   "cell_type": "markdown",
   "id": "49556c82",
   "metadata": {},
   "source": [
    "#### 2.5 Cleaning the Engine.Type Column\n",
    "- Ensure all values are unique\n",
    "- Fill the missing values with the mode"
   ]
  },
  {
   "cell_type": "code",
   "execution_count": 504,
   "id": "f89cb432",
   "metadata": {},
   "outputs": [
    {
     "data": {
      "text/plain": [
       "Reciprocating    75909\n",
       "Turbo Shaft       3583\n",
       "Turbo Prop        3324\n",
       "Turbo Fan         2399\n",
       "Unknown           2017\n",
       "Turbo Jet          684\n",
       "None                21\n",
       "Electric            10\n",
       "Lr                   2\n",
       "Hybrid Rocket        1\n",
       "Name: Engine.Type, dtype: int64"
      ]
     },
     "execution_count": 504,
     "metadata": {},
     "output_type": "execute_result"
    }
   ],
   "source": [
    "# Standardize the values of the Engine.Type\n",
    "df['Engine.Type'] = df['Engine.Type'].str.strip().str.title().replace({'Unk': 'Unknown', 'Geared Turbofan': 'Turbo Fan'})\n",
    "df['Engine.Type'].isna().sum()\n",
    "\n",
    "# Fill the missing values with the mode\n",
    "engine_type_mode = df['Engine.Type'].mode()[0]\n",
    "df['Engine.Type'] = df['Engine.Type'].fillna(engine_type_mode)\n",
    "df['Engine.Type'].value_counts()"
   ]
  },
  {
   "cell_type": "markdown",
   "id": "b71804d1",
   "metadata": {},
   "source": [
    "#### 2.6 Data Cleaning of the Numerical Columns\n",
    "Columns of interest are; `Total.Fatal.Injuries`, `Total.Serious.Injuries`, `Total.Minor.Injuries`, `Total.Uninjured`\n",
    "- Drop the rows with missing values in all the columns of interest\n",
    "- Ensure that all the values are numeric in nature\n",
    "- Fill the missing values with 0(which is the median and the approximate mean)\n",
    "- Ensure that there are no negative injuries"
   ]
  },
  {
   "cell_type": "code",
   "execution_count": 505,
   "id": "299e3c18",
   "metadata": {},
   "outputs": [
    {
     "data": {
      "text/html": [
       "<div>\n",
       "<style scoped>\n",
       "    .dataframe tbody tr th:only-of-type {\n",
       "        vertical-align: middle;\n",
       "    }\n",
       "\n",
       "    .dataframe tbody tr th {\n",
       "        vertical-align: top;\n",
       "    }\n",
       "\n",
       "    .dataframe thead th {\n",
       "        text-align: right;\n",
       "    }\n",
       "</style>\n",
       "<table border=\"1\" class=\"dataframe\">\n",
       "  <thead>\n",
       "    <tr style=\"text-align: right;\">\n",
       "      <th></th>\n",
       "      <th>Number.of.Engines</th>\n",
       "      <th>Total.Fatal.Injuries</th>\n",
       "      <th>Total.Serious.Injuries</th>\n",
       "      <th>Total.Minor.Injuries</th>\n",
       "      <th>Total.Uninjured</th>\n",
       "      <th>Year</th>\n",
       "    </tr>\n",
       "  </thead>\n",
       "  <tbody>\n",
       "    <tr>\n",
       "      <th>count</th>\n",
       "      <td>81924.000000</td>\n",
       "      <td>76683.000000</td>\n",
       "      <td>75628.000000</td>\n",
       "      <td>76190.000000</td>\n",
       "      <td>82087.000000</td>\n",
       "      <td>87950.000000</td>\n",
       "    </tr>\n",
       "    <tr>\n",
       "      <th>mean</th>\n",
       "      <td>1.144622</td>\n",
       "      <td>0.633582</td>\n",
       "      <td>0.280557</td>\n",
       "      <td>0.356018</td>\n",
       "      <td>5.086701</td>\n",
       "      <td>1999.265503</td>\n",
       "    </tr>\n",
       "    <tr>\n",
       "      <th>std</th>\n",
       "      <td>0.443127</td>\n",
       "      <td>5.303934</td>\n",
       "      <td>1.549698</td>\n",
       "      <td>2.238253</td>\n",
       "      <td>26.635555</td>\n",
       "      <td>11.903210</td>\n",
       "    </tr>\n",
       "    <tr>\n",
       "      <th>min</th>\n",
       "      <td>0.000000</td>\n",
       "      <td>0.000000</td>\n",
       "      <td>0.000000</td>\n",
       "      <td>0.000000</td>\n",
       "      <td>0.000000</td>\n",
       "      <td>1948.000000</td>\n",
       "    </tr>\n",
       "    <tr>\n",
       "      <th>25%</th>\n",
       "      <td>1.000000</td>\n",
       "      <td>0.000000</td>\n",
       "      <td>0.000000</td>\n",
       "      <td>0.000000</td>\n",
       "      <td>0.000000</td>\n",
       "      <td>1989.000000</td>\n",
       "    </tr>\n",
       "    <tr>\n",
       "      <th>50%</th>\n",
       "      <td>1.000000</td>\n",
       "      <td>0.000000</td>\n",
       "      <td>0.000000</td>\n",
       "      <td>0.000000</td>\n",
       "      <td>1.000000</td>\n",
       "      <td>1998.000000</td>\n",
       "    </tr>\n",
       "    <tr>\n",
       "      <th>75%</th>\n",
       "      <td>1.000000</td>\n",
       "      <td>0.000000</td>\n",
       "      <td>0.000000</td>\n",
       "      <td>0.000000</td>\n",
       "      <td>2.000000</td>\n",
       "      <td>2009.000000</td>\n",
       "    </tr>\n",
       "    <tr>\n",
       "      <th>max</th>\n",
       "      <td>8.000000</td>\n",
       "      <td>349.000000</td>\n",
       "      <td>161.000000</td>\n",
       "      <td>380.000000</td>\n",
       "      <td>699.000000</td>\n",
       "      <td>2022.000000</td>\n",
       "    </tr>\n",
       "  </tbody>\n",
       "</table>\n",
       "</div>"
      ],
      "text/plain": [
       "       Number.of.Engines  Total.Fatal.Injuries  Total.Serious.Injuries  \\\n",
       "count       81924.000000          76683.000000            75628.000000   \n",
       "mean            1.144622              0.633582                0.280557   \n",
       "std             0.443127              5.303934                1.549698   \n",
       "min             0.000000              0.000000                0.000000   \n",
       "25%             1.000000              0.000000                0.000000   \n",
       "50%             1.000000              0.000000                0.000000   \n",
       "75%             1.000000              0.000000                0.000000   \n",
       "max             8.000000            349.000000              161.000000   \n",
       "\n",
       "       Total.Minor.Injuries  Total.Uninjured          Year  \n",
       "count          76190.000000     82087.000000  87950.000000  \n",
       "mean               0.356018         5.086701   1999.265503  \n",
       "std                2.238253        26.635555     11.903210  \n",
       "min                0.000000         0.000000   1948.000000  \n",
       "25%                0.000000         0.000000   1989.000000  \n",
       "50%                0.000000         1.000000   1998.000000  \n",
       "75%                0.000000         2.000000   2009.000000  \n",
       "max              380.000000       699.000000   2022.000000  "
      ]
     },
     "execution_count": 505,
     "metadata": {},
     "output_type": "execute_result"
    }
   ],
   "source": [
    "df.describe()"
   ]
  },
  {
   "cell_type": "code",
   "execution_count": 506,
   "id": "c56dcf36",
   "metadata": {},
   "outputs": [
    {
     "name": "stdout",
     "output_type": "stream",
     "text": [
      "Number of rows missing all injuries(Fatal,Serious,Minor,Uninjured): 222\n"
     ]
    }
   ],
   "source": [
    "# Count rows where \n",
    "missing_all = df[df['Total.Fatal.Injuries'].isnull() & \n",
    "                 df['Total.Serious.Injuries'].isnull() & \n",
    "                 df['Total.Minor.Injuries'].isnull() & \n",
    "                 df['Total.Uninjured'].isnull()]\n",
    "\n",
    "print(\"Number of rows missing all injuries(Fatal,Serious,Minor,Uninjured):\", missing_all.shape[0])\n",
    "\n",
    "# Drop rows where all Injuries and Uninjured are missing(223 Rows)\n",
    "df = df.dropna(subset=['Total.Fatal.Injuries', 'Total.Serious.Injuries', 'Total.Minor.Injuries', 'Total.Uninjured'], how='all')\n"
   ]
  },
  {
   "cell_type": "code",
   "execution_count": 507,
   "id": "da71200d",
   "metadata": {},
   "outputs": [
    {
     "name": "stdout",
     "output_type": "stream",
     "text": [
      "Number of rows with negative values: 0\n"
     ]
    }
   ],
   "source": [
    "# # A list of the columns of interest\n",
    "numeric_cols = ['Total.Fatal.Injuries', 'Total.Serious.Injuries', 'Total.Minor.Injuries', 'Total.Uninjured']\n",
    "\n",
    "# #  Convert to numeric (invalid entries become NaN)\n",
    "for col in numeric_cols:\n",
    "    df[col] = pd.to_numeric(df[col])\n",
    "\n",
    "# # Fill missing values with 0 (The Median and Approximate Mean)\n",
    "df[numeric_cols] = df[numeric_cols].fillna(0)\n",
    "\n",
    "# # Check for negative values in the columns\n",
    "for col in numeric_cols:\n",
    "    neg_count = (df[col] < 0).sum()\n",
    "print(f\"Number of rows with negative values: {neg_count}\")"
   ]
  },
  {
   "cell_type": "code",
   "execution_count": 508,
   "id": "4c1f3074",
   "metadata": {},
   "outputs": [
    {
     "name": "stdout",
     "output_type": "stream",
     "text": [
      "<class 'pandas.core.frame.DataFrame'>\n",
      "Int64Index: 87728 entries, 0 to 90347\n",
      "Data columns (total 8 columns):\n",
      " #   Column                  Non-Null Count  Dtype         \n",
      "---  ------                  --------------  -----         \n",
      " 0   Country                 87728 non-null  object        \n",
      " 1   Location                87728 non-null  object        \n",
      " 2   Weather.Condition       87728 non-null  object        \n",
      " 3   Event.Date              87728 non-null  datetime64[ns]\n",
      " 4   Total.Fatal.Injuries    87728 non-null  float64       \n",
      " 5   Total.Serious.Injuries  87728 non-null  float64       \n",
      " 6   Total.Minor.Injuries    87728 non-null  float64       \n",
      " 7   Total.Uninjured         87728 non-null  float64       \n",
      "dtypes: datetime64[ns](1), float64(4), object(3)\n",
      "memory usage: 6.0+ MB\n"
     ]
    }
   ],
   "source": [
    "# Check data type and missing data for all variables of interest\n",
    "df[[\n",
    "    'Country', 'Location', 'Weather.Condition', 'Event.Date',\n",
    "    'Total.Fatal.Injuries', 'Total.Serious.Injuries', 'Total.Minor.Injuries', 'Total.Uninjured'\n",
    "    ]].info()"
   ]
  },
  {
   "cell_type": "code",
   "execution_count": 509,
   "id": "891dc7d6",
   "metadata": {},
   "outputs": [],
   "source": [
    "# Create a column for fatal injuries 0 for fatal and 1 for non fatal\n",
    "df['Is_Fatal'] = (df['Total.Fatal.Injuries'] > 0).astype(int)"
   ]
  },
  {
   "cell_type": "code",
   "execution_count": 510,
   "id": "27a4f6a4",
   "metadata": {},
   "outputs": [],
   "source": [
    "# Save cleaned DataFrame to a new CSV\n",
    "## I will put it in .gitignore\n",
    "df.to_csv('Aviation_Data_Clean.csv', index=False)\n"
   ]
  },
  {
   "cell_type": "markdown",
   "id": "8e1a636a",
   "metadata": {},
   "source": [
    "### 3.0 **Data Manipulation, Analysis and Visualization**\n"
   ]
  },
  {
   "cell_type": "markdown",
   "id": "6340cbd1",
   "metadata": {},
   "source": [
    "#### 3.1 Country Analysis\n",
    "- Top 10 Countries with highest event occurence\n",
    "- Distribution of Injuries in the top 10 countries\n",
    "- Distribution of Event.Type in the top 10 countries"
   ]
  },
  {
   "cell_type": "code",
   "execution_count": 511,
   "id": "1541990b",
   "metadata": {},
   "outputs": [
    {
     "data": {
      "text/plain": [
       "United States     81335\n",
       "Brazil              367\n",
       "Mexico              353\n",
       "Canada              350\n",
       "United Kingdom      327\n",
       "Australia           277\n",
       "Spain               223\n",
       "France              221\n",
       "Bahamas             212\n",
       "Germany             202\n",
       "Name: Country, dtype: int64"
      ]
     },
     "execution_count": 511,
     "metadata": {},
     "output_type": "execute_result"
    }
   ],
   "source": [
    "# Top 10 countries with the most events\n",
    "top_10_countries= df[df['Country'] != 'Unknown']['Country'].value_counts().head(10)\n",
    "top_10_countries"
   ]
  },
  {
   "cell_type": "code",
   "execution_count": 512,
   "id": "494cfd3d",
   "metadata": {},
   "outputs": [
    {
     "data": {
      "text/html": [
       "<div>\n",
       "<style scoped>\n",
       "    .dataframe tbody tr th:only-of-type {\n",
       "        vertical-align: middle;\n",
       "    }\n",
       "\n",
       "    .dataframe tbody tr th {\n",
       "        vertical-align: top;\n",
       "    }\n",
       "\n",
       "    .dataframe thead th {\n",
       "        text-align: right;\n",
       "    }\n",
       "</style>\n",
       "<table border=\"1\" class=\"dataframe\">\n",
       "  <thead>\n",
       "    <tr style=\"text-align: right;\">\n",
       "      <th></th>\n",
       "      <th>Country</th>\n",
       "      <th>Total.Fatal.Injuries</th>\n",
       "      <th>Total.Serious.Injuries</th>\n",
       "      <th>Total.Minor.Injuries</th>\n",
       "      <th>Total</th>\n",
       "    </tr>\n",
       "  </thead>\n",
       "  <tbody>\n",
       "    <tr>\n",
       "      <th>0</th>\n",
       "      <td>United States</td>\n",
       "      <td>29335.0</td>\n",
       "      <td>18070.0</td>\n",
       "      <td>23474.0</td>\n",
       "      <td>70879.0</td>\n",
       "    </tr>\n",
       "    <tr>\n",
       "      <th>1</th>\n",
       "      <td>Canada</td>\n",
       "      <td>937.0</td>\n",
       "      <td>150.0</td>\n",
       "      <td>512.0</td>\n",
       "      <td>1599.0</td>\n",
       "    </tr>\n",
       "    <tr>\n",
       "      <th>2</th>\n",
       "      <td>Brazil</td>\n",
       "      <td>1089.0</td>\n",
       "      <td>124.0</td>\n",
       "      <td>77.0</td>\n",
       "      <td>1290.0</td>\n",
       "    </tr>\n",
       "    <tr>\n",
       "      <th>3</th>\n",
       "      <td>Mexico</td>\n",
       "      <td>653.0</td>\n",
       "      <td>133.0</td>\n",
       "      <td>119.0</td>\n",
       "      <td>905.0</td>\n",
       "    </tr>\n",
       "    <tr>\n",
       "      <th>4</th>\n",
       "      <td>France</td>\n",
       "      <td>798.0</td>\n",
       "      <td>52.0</td>\n",
       "      <td>53.0</td>\n",
       "      <td>903.0</td>\n",
       "    </tr>\n",
       "    <tr>\n",
       "      <th>5</th>\n",
       "      <td>Spain</td>\n",
       "      <td>373.0</td>\n",
       "      <td>128.0</td>\n",
       "      <td>168.0</td>\n",
       "      <td>669.0</td>\n",
       "    </tr>\n",
       "    <tr>\n",
       "      <th>6</th>\n",
       "      <td>United Kingdom</td>\n",
       "      <td>467.0</td>\n",
       "      <td>34.0</td>\n",
       "      <td>42.0</td>\n",
       "      <td>543.0</td>\n",
       "    </tr>\n",
       "    <tr>\n",
       "      <th>7</th>\n",
       "      <td>Australia</td>\n",
       "      <td>284.0</td>\n",
       "      <td>58.0</td>\n",
       "      <td>53.0</td>\n",
       "      <td>395.0</td>\n",
       "    </tr>\n",
       "    <tr>\n",
       "      <th>8</th>\n",
       "      <td>Bahamas</td>\n",
       "      <td>191.0</td>\n",
       "      <td>69.0</td>\n",
       "      <td>88.0</td>\n",
       "      <td>348.0</td>\n",
       "    </tr>\n",
       "    <tr>\n",
       "      <th>9</th>\n",
       "      <td>Germany</td>\n",
       "      <td>251.0</td>\n",
       "      <td>34.0</td>\n",
       "      <td>24.0</td>\n",
       "      <td>309.0</td>\n",
       "    </tr>\n",
       "  </tbody>\n",
       "</table>\n",
       "</div>"
      ],
      "text/plain": [
       "          Country  Total.Fatal.Injuries  Total.Serious.Injuries  \\\n",
       "0   United States               29335.0                 18070.0   \n",
       "1          Canada                 937.0                   150.0   \n",
       "2          Brazil                1089.0                   124.0   \n",
       "3          Mexico                 653.0                   133.0   \n",
       "4          France                 798.0                    52.0   \n",
       "5           Spain                 373.0                   128.0   \n",
       "6  United Kingdom                 467.0                    34.0   \n",
       "7       Australia                 284.0                    58.0   \n",
       "8         Bahamas                 191.0                    69.0   \n",
       "9         Germany                 251.0                    34.0   \n",
       "\n",
       "   Total.Minor.Injuries    Total  \n",
       "0               23474.0  70879.0  \n",
       "1                 512.0   1599.0  \n",
       "2                  77.0   1290.0  \n",
       "3                 119.0    905.0  \n",
       "4                  53.0    903.0  \n",
       "5                 168.0    669.0  \n",
       "6                  42.0    543.0  \n",
       "7                  53.0    395.0  \n",
       "8                  88.0    348.0  \n",
       "9                  24.0    309.0  "
      ]
     },
     "execution_count": 512,
     "metadata": {},
     "output_type": "execute_result"
    }
   ],
   "source": [
    "# Filter data to only those countries\n",
    "df_top10 = df[df['Country'].isin(top_10_countries.index)]\n",
    "df_top10\n",
    "\n",
    "# Group by country and sum\n",
    "injuries_top10 = (\n",
    "    df_top10.groupby('Country')[['Total.Fatal.Injuries',\n",
    "                                 'Total.Serious.Injuries',\n",
    "                                 'Total.Minor.Injuries']]\n",
    "    .sum()\n",
    "    .reset_index()\n",
    ")\n",
    "# Add total column\n",
    "injuries_top10['Total'] = (\n",
    "    injuries_top10['Total.Fatal.Injuries'] + \n",
    "    injuries_top10['Total.Serious.Injuries'] + \n",
    "    injuries_top10['Total.Minor.Injuries']\n",
    ")\n",
    "# Sort by Total injuries (descending)\n",
    "injuries_top10 = injuries_top10.sort_values(by='Total', ascending=False).reset_index(drop=True)\n",
    "\n",
    "injuries_top10"
   ]
  },
  {
   "cell_type": "code",
   "execution_count": 513,
   "id": "dce12017",
   "metadata": {},
   "outputs": [
    {
     "data": {
      "text/html": [
       "<div>\n",
       "<style scoped>\n",
       "    .dataframe tbody tr th:only-of-type {\n",
       "        vertical-align: middle;\n",
       "    }\n",
       "\n",
       "    .dataframe tbody tr th {\n",
       "        vertical-align: top;\n",
       "    }\n",
       "\n",
       "    .dataframe thead th {\n",
       "        text-align: right;\n",
       "    }\n",
       "</style>\n",
       "<table border=\"1\" class=\"dataframe\">\n",
       "  <thead>\n",
       "    <tr style=\"text-align: right;\">\n",
       "      <th></th>\n",
       "      <th>Accident</th>\n",
       "      <th>Incident</th>\n",
       "    </tr>\n",
       "    <tr>\n",
       "      <th>Country</th>\n",
       "      <th></th>\n",
       "      <th></th>\n",
       "    </tr>\n",
       "  </thead>\n",
       "  <tbody>\n",
       "    <tr>\n",
       "      <th>United States</th>\n",
       "      <td>79097</td>\n",
       "      <td>2238</td>\n",
       "    </tr>\n",
       "    <tr>\n",
       "      <th>Brazil</th>\n",
       "      <td>327</td>\n",
       "      <td>40</td>\n",
       "    </tr>\n",
       "    <tr>\n",
       "      <th>Canada</th>\n",
       "      <td>307</td>\n",
       "      <td>43</td>\n",
       "    </tr>\n",
       "    <tr>\n",
       "      <th>Mexico</th>\n",
       "      <td>288</td>\n",
       "      <td>65</td>\n",
       "    </tr>\n",
       "    <tr>\n",
       "      <th>United Kingdom</th>\n",
       "      <td>217</td>\n",
       "      <td>110</td>\n",
       "    </tr>\n",
       "    <tr>\n",
       "      <th>Australia</th>\n",
       "      <td>199</td>\n",
       "      <td>78</td>\n",
       "    </tr>\n",
       "    <tr>\n",
       "      <th>Bahamas</th>\n",
       "      <td>198</td>\n",
       "      <td>14</td>\n",
       "    </tr>\n",
       "    <tr>\n",
       "      <th>France</th>\n",
       "      <td>174</td>\n",
       "      <td>47</td>\n",
       "    </tr>\n",
       "    <tr>\n",
       "      <th>Spain</th>\n",
       "      <td>169</td>\n",
       "      <td>54</td>\n",
       "    </tr>\n",
       "    <tr>\n",
       "      <th>Germany</th>\n",
       "      <td>157</td>\n",
       "      <td>45</td>\n",
       "    </tr>\n",
       "  </tbody>\n",
       "</table>\n",
       "</div>"
      ],
      "text/plain": [
       "                Accident  Incident\n",
       "Country                           \n",
       "United States      79097      2238\n",
       "Brazil               327        40\n",
       "Canada               307        43\n",
       "Mexico               288        65\n",
       "United Kingdom       217       110\n",
       "Australia            199        78\n",
       "Bahamas              198        14\n",
       "France               174        47\n",
       "Spain                169        54\n",
       "Germany              157        45"
      ]
     },
     "execution_count": 513,
     "metadata": {},
     "output_type": "execute_result"
    }
   ],
   "source": [
    "# Group by Country + Investigation.Type\n",
    "investigation_top10 = (\n",
    "    df_top10.groupby(['Country', 'Investigation.Type'])\n",
    "    .size()\n",
    "    .reset_index(name='Count')\n",
    ")\n",
    "\n",
    "# Pivot for easier comparison\n",
    "investigation_pivot = investigation_top10.pivot_table(\n",
    "    index='Country',\n",
    "    columns='Investigation.Type',\n",
    "    values='Count',\n",
    "    fill_value=0\n",
    ")\n",
    "\n",
    "# Remove the columns' index name\n",
    "investigation_pivot.columns.name = None\n",
    "\n",
    "# Sort by Accident counts\n",
    "investigation_pivot = investigation_pivot.sort_values(by='Accident', ascending=False)\n",
    "\n",
    "investigation_pivot"
   ]
  },
  {
   "cell_type": "code",
   "execution_count": 514,
   "id": "bb9f618c",
   "metadata": {},
   "outputs": [
    {
     "name": "stdout",
     "output_type": "stream",
     "text": [
      "Season           Fall  Spring  Summer  Winter\n",
      "Country                                      \n",
      "United States   18955   20612   28119   13649\n",
      "Canada             91      66     135      58\n",
      "United Kingdom     69      68     112      78\n",
      "Mexico             96      86      90      81\n",
      "Brazil            100      86      68     113\n",
      "France             53      48      65      55\n",
      "Spain              44      73      63      43\n",
      "Australia          79      64      59      75\n",
      "Germany            56      50      59      37\n",
      "Bahamas            52      52      57      51\n"
     ]
    }
   ],
   "source": [
    "# Group by country and season\n",
    "country_season_counts = (\n",
    "    df_top10.groupby(['Country', 'Season'])\n",
    "      .size()\n",
    "      .reset_index(name='event_count')\n",
    "      .pivot(index='Country', columns='Season', values='event_count')\n",
    "      .astype(int)  # make counts integers\n",
    "      .sort_values(by='Summer', ascending=False)\n",
    ")\n",
    "\n",
    "print(country_season_counts.head(20))"
   ]
  },
  {
   "cell_type": "markdown",
   "id": "773d6398",
   "metadata": {},
   "source": [
    "Summary:\n",
    "US and Canada have the highest number of events and the most injuries occuring in the DataFrame.\n",
    "They are the high risk countries."
   ]
  },
  {
   "cell_type": "markdown",
   "id": "8d0d2f61",
   "metadata": {},
   "source": [
    "#### 3.2 Time Trends\n",
    "-  Aggregate the number of accidents per year to identify long-term trends. A line chart to show whether aviation accidents are increasing, decreasing or remaining stable over time.\n",
    "-  Aggregate accidents by month of event to check for seasonality. Peaks or dips may indicate months with higher or lower accident frequency.\n",
    "- Aggregate accidents by month of injury type to check for seasonality. Peaks or dips may indicate months with higher or lower injury frequency.\n",
    "- Find the reason why a certain month has more events occuring."
   ]
  },
  {
   "cell_type": "code",
   "execution_count": 515,
   "id": "fc22a87f",
   "metadata": {},
   "outputs": [
    {
     "data": {
      "image/png": "[encoded data removed]",
      "text/plain": [
       "<Figure size 864x432 with 1 Axes>"
      ]
     },
     "metadata": {
      "needs_background": "light"
     },
     "output_type": "display_data"
    }
   ],
   "source": [
    "# A new variable that shows the Year and Number of Accidents in that Year\n",
    "accidents_per_year = df.groupby('Year').size().reset_index(name='Event_Count')\n",
    "accidents_per_year\n",
    "\n",
    "# Because of the Outliers in the years 1984-1981, filter to start at 1982\n",
    "accidents_filtered = accidents_per_year[accidents_per_year['Year'] >= 1982]\n",
    "\n",
    "# PLot the line-graph to see the Trend\n",
    "plt.figure(figsize=(12,6))\n",
    "plt.plot(accidents_filtered['Year'], accidents_filtered['Event_Count'], color='blue', marker='o')\n",
    "plt.title(\"Number of Aviation Events per Year\")\n",
    "plt.xlabel(\"Event Year\")\n",
    "plt.ylabel(\"Number of Events\")\n",
    "plt.show()"
   ]
  },
  {
   "cell_type": "markdown",
   "id": "c7b4bc3c",
   "metadata": {},
   "source": [
    "There is a significant decline in the occurence of events over the years though not quite smooth"
   ]
  },
  {
   "cell_type": "code",
   "execution_count": 516,
   "id": "f58904cc",
   "metadata": {},
   "outputs": [
    {
     "data": {
      "image/png": "[encoded data removed]",
      "text/plain": [
       "<Figure size 720x360 with 1 Axes>"
      ]
     },
     "metadata": {
      "needs_background": "light"
     },
     "output_type": "display_data"
    }
   ],
   "source": [
    "# Ensure the months in the graph are ordered for easy interpretation \n",
    "\n",
    "# The correct chronological order of the abbreviated months\n",
    "month_order = ['Jan', 'Feb', 'Mar', 'Apr', 'May', 'Jun',\n",
    "               'Jul', 'Aug', 'Sep', 'Oct', 'Nov', 'Dec']\n",
    "\n",
    "# Convert the 'Month' column to a categorical type with the specified order\n",
    "df['Month'] = pd.Categorical(df['Month'], categories=month_order, ordered=True)\n",
    "\n",
    "accidents_per_month = df.groupby('Month').size().reset_index(name='Event_Count')\n",
    "accidents_per_month\n",
    "\n",
    "# Plot the Line graph for Months against events\n",
    "plt.figure(figsize=(10,5))\n",
    "plt.plot(accidents_per_month['Month'], accidents_per_month['Event_Count'], color='blue')\n",
    "plt.title(\"Distribution of Aviation Events by Month\")\n",
    "plt.xlabel(\"Event Month\")\n",
    "plt.ylabel(\"Number of Events\")\n",
    "plt.show()"
   ]
  },
  {
   "cell_type": "markdown",
   "id": "00322e70",
   "metadata": {},
   "source": [
    "July has the highest number of aviation accidents followed by August and June\n",
    "January and December have the lowest accidents.\n",
    "Mid year are the peak months when aviation accidents happen."
   ]
  },
  {
   "cell_type": "code",
   "execution_count": 517,
   "id": "35167ad6",
   "metadata": {},
   "outputs": [
    {
     "data": {
      "image/png": "[encoded data removed]",
      "text/plain": [
       "<Figure size 864x432 with 1 Axes>"
      ]
     },
     "metadata": {
      "needs_background": "light"
     },
     "output_type": "display_data"
    }
   ],
   "source": [
    "## Analyse the injuries, Fatal Severe and Minor over the months\n",
    "# a variable containing the injuries\n",
    "injury_cols = ['Total.Fatal.Injuries', 'Total.Serious.Injuries', 'Total.Minor.Injuries']\n",
    "\n",
    "# Group the months by the injury variables\n",
    "injuries_per_month = df.groupby('Month')[injury_cols].sum().reset_index()\n",
    "injuries_per_month = injuries_per_month.sort_values('Month')\n",
    "injuries_per_month\n",
    "\n",
    "#Plot of the trends of the injury types\n",
    "injuries_per_month.plot(x='Month',  figsize=(12,6))\n",
    "plt.title(\"Accidents by Month and Injury Type\")\n",
    "plt.xlabel(\"Month\")\n",
    "plt.ylabel(\"Number of People\")\n",
    "plt.xticks(rotation=45)\n",
    "plt.legend(title=\"Injury Type\")\n",
    "plt.tight_layout()\n",
    "plt.show()"
   ]
  },
  {
   "cell_type": "markdown",
   "id": "7b690459",
   "metadata": {},
   "source": [
    "Again, mid year the injuries are at peak compared to the beginning and the end of the year. "
   ]
  },
  {
   "cell_type": "markdown",
   "id": "27c695ea",
   "metadata": {},
   "source": [
    "Break down July accidents by Weather.Condition, Engine.Type, Investigation.Type"
   ]
  },
  {
   "cell_type": "code",
   "execution_count": 518,
   "id": "e71a88e7",
   "metadata": {},
   "outputs": [
    {
     "name": "stdout",
     "output_type": "stream",
     "text": [
      "VMC    9692\n",
      "UNK     568\n",
      "IMC     324\n",
      "Name: Weather.Condition, dtype: int64\n"
     ]
    }
   ],
   "source": [
    "# July weather by weather condition\n",
    "july_weather = df[df['Month'] == 'Jul']['Weather.Condition'].value_counts()\n",
    "print(july_weather)\n",
    "\n",
    "# VMC are higher in July"
   ]
  },
  {
   "cell_type": "code",
   "execution_count": 519,
   "id": "d13e4f54",
   "metadata": {},
   "outputs": [
    {
     "name": "stdout",
     "output_type": "stream",
     "text": [
      "Reciprocating    9321\n",
      "Turbo Shaft       412\n",
      "Turbo Prop        331\n",
      "Unknown           261\n",
      "Turbo Fan         201\n",
      "Turbo Jet          53\n",
      "None                4\n",
      "Electric            1\n",
      "Name: Engine.Type, dtype: int64\n"
     ]
    }
   ],
   "source": [
    "# July weather by Engine type\n",
    "july_engines = df[df['Month'] == 'Jul']['Engine.Type'].value_counts()\n",
    "print(july_engines)\n",
    "\n",
    "# Reciprocating engines are more in July"
   ]
  },
  {
   "cell_type": "code",
   "execution_count": 520,
   "id": "8c54d6e5",
   "metadata": {},
   "outputs": [
    {
     "name": "stdout",
     "output_type": "stream",
     "text": [
      "Accident    10249\n",
      "Incident      335\n",
      "Name: Investigation.Type, dtype: int64\n"
     ]
    }
   ],
   "source": [
    "# July weather by investigation type\n",
    "july_investigation = df[df['Month'] == 'Jul']['Investigation.Type'].value_counts()\n",
    "print(july_investigation)\n",
    "\n",
    "# Accidents are more in July"
   ]
  },
  {
   "cell_type": "markdown",
   "id": "45120af6",
   "metadata": {},
   "source": [
    "Accidents are more frequent in July across multiple categories (weather condition, engine type, investigation type). This suggests the spike is due to higher flight activity in summer months rather than a single causal factor. More accidents occur because more flights are conducted."
   ]
  },
  {
   "cell_type": "markdown",
   "id": "d9c64b2f",
   "metadata": {},
   "source": [
    "#### 3.3 Distribution of the Weather Condition\n",
    "- Analyse weather condition and the event count.\n",
    "- Analyse weather condition and injury count.\n",
    "- Is there a correlation between weather condition and month?"
   ]
  },
  {
   "cell_type": "markdown",
   "id": "595eeae4",
   "metadata": {},
   "source": [
    "**Recall**:(VMC = Visual Meteorological Conditions, IMC = Instrument Meteorological Conditions, UNK = Unknown) "
   ]
  },
  {
   "cell_type": "code",
   "execution_count": 521,
   "id": "8fddc010",
   "metadata": {},
   "outputs": [
    {
     "data": {
      "text/html": [
       "<div>\n",
       "<style scoped>\n",
       "    .dataframe tbody tr th:only-of-type {\n",
       "        vertical-align: middle;\n",
       "    }\n",
       "\n",
       "    .dataframe tbody tr th {\n",
       "        vertical-align: top;\n",
       "    }\n",
       "\n",
       "    .dataframe thead th {\n",
       "        text-align: right;\n",
       "    }\n",
       "</style>\n",
       "<table border=\"1\" class=\"dataframe\">\n",
       "  <thead>\n",
       "    <tr style=\"text-align: right;\">\n",
       "      <th></th>\n",
       "      <th>Weather.Condition</th>\n",
       "      <th>Event_Count</th>\n",
       "    </tr>\n",
       "  </thead>\n",
       "  <tbody>\n",
       "    <tr>\n",
       "      <th>0</th>\n",
       "      <td>VMC</td>\n",
       "      <td>76373</td>\n",
       "    </tr>\n",
       "    <tr>\n",
       "      <th>1</th>\n",
       "      <td>IMC</td>\n",
       "      <td>5943</td>\n",
       "    </tr>\n",
       "    <tr>\n",
       "      <th>2</th>\n",
       "      <td>UNK</td>\n",
       "      <td>5412</td>\n",
       "    </tr>\n",
       "  </tbody>\n",
       "</table>\n",
       "</div>"
      ],
      "text/plain": [
       "  Weather.Condition  Event_Count\n",
       "0               VMC        76373\n",
       "1               IMC         5943\n",
       "2               UNK         5412"
      ]
     },
     "execution_count": 521,
     "metadata": {},
     "output_type": "execute_result"
    }
   ],
   "source": [
    "# Create a contingency table: counts of events and Weather.Condition\n",
    "accidents_by_weather = (\n",
    "    df['Weather.Condition']\n",
    "    .value_counts()\n",
    "    .reset_index()\n",
    "    .rename(columns={'index':'Weather.Condition', 'Weather.Condition':'Event_Count'})\n",
    ")\n",
    "accidents_by_weather\n"
   ]
  },
  {
   "cell_type": "code",
   "execution_count": 522,
   "id": "01aac30b",
   "metadata": {},
   "outputs": [
    {
     "name": "stdout",
     "output_type": "stream",
     "text": [
      "  Weather.Condition  Total.Fatal.Injuries  Total.Serious.Injuries  \\\n",
      "2               VMC               24662.0                 17303.0   \n",
      "1               UNK               12383.0                  1781.0   \n",
      "0               IMC               11540.0                  2134.0   \n",
      "\n",
      "   Total.Minor.Injuries  \n",
      "2               22663.0  \n",
      "1                1773.0  \n",
      "0                2689.0  \n"
     ]
    },
    {
     "data": {
      "image/png": "[encoded data removed]",
      "text/plain": [
       "<Figure size 720x432 with 1 Axes>"
      ]
     },
     "metadata": {
      "needs_background": "light"
     },
     "output_type": "display_data"
    }
   ],
   "source": [
    "# Create a contingency table: counts of injuries and Weather.Condition\n",
    "injuries_by_weather = (df.groupby('Weather.Condition')[injury_cols].sum().reset_index())\n",
    "\n",
    "injuries_by_weather = injuries_by_weather.sort_values(by='Total.Fatal.Injuries', ascending=False)\n",
    "print (injuries_by_weather)\n",
    "\n",
    "# Melt all the injuries data for plotting\n",
    "injuries_melted = injuries_by_weather.melt(id_vars='Weather.Condition',\n",
    "                                           value_vars=['Total.Fatal.Injuries','Total.Serious.Injuries','Total.Minor.Injuries'],\n",
    "                                           var_name='Injury_Type',\n",
    "                                           value_name='Count')\n",
    "# Plot\n",
    "plt.figure(figsize=(10,6))\n",
    "sns.barplot(data=injuries_melted, x='Weather.Condition', y='Count', hue='Injury_Type')\n",
    "plt.title('Relationship Between Injuries and Weather Condition')\n",
    "plt.xlabel('Weather Condition')\n",
    "plt.ylabel('Number of Injuries')\n",
    "plt.legend(title='Injury Type')\n",
    "plt.show()"
   ]
  },
  {
   "cell_type": "markdown",
   "id": "2bbc1f17",
   "metadata": {},
   "source": [
    "**VMC** is consistently high meaning thet Visual Meteoroligical Conditions which is visual interpretation of the weather causes more accidents and injuries than when instruments are used. "
   ]
  },
  {
   "cell_type": "code",
   "execution_count": 523,
   "id": "50d4e77d",
   "metadata": {},
   "outputs": [
    {
     "name": "stdout",
     "output_type": "stream",
     "text": [
      "Weather.Condition  IMC  UNK   VMC\n",
      "Month                            \n",
      "Jan                691  376  3867\n",
      "Feb                561  394  4254\n",
      "Mar                576  446  5561\n",
      "Apr                452  385  6312\n",
      "May                356  435  7615\n",
      "Jun                360  451  8639\n",
      "Jul                324  568  9692\n",
      "Aug                373  543  8949\n",
      "Sep                409  530  7325\n",
      "Oct                494  496  5885\n",
      "Nov                603  385  4440\n",
      "Dec                744  403  3834\n"
     ]
    },
    {
     "data": {
      "image/png": "[encoded data removed]",
      "text/plain": [
       "<Figure size 864x432 with 1 Axes>"
      ]
     },
     "metadata": {
      "needs_background": "light"
     },
     "output_type": "display_data"
    }
   ],
   "source": [
    "# Create a contingency table: counts of events by Month and Weather.Condition\n",
    "month_weather_table = pd.crosstab(df['Month'], df['Weather.Condition'])\n",
    "print(month_weather_table)\n",
    "\n",
    "# Plot a grouped bar chart for month and weather condition\n",
    "month_weather_table.plot(kind='bar', figsize=(12,6))\n",
    "plt.title('Number of Accidents by Month and Weather Condition')\n",
    "plt.ylabel('Accident Count')\n",
    "plt.xlabel('Month')\n",
    "plt.xticks(rotation=0)\n",
    "plt.show()"
   ]
  },
  {
   "cell_type": "markdown",
   "id": "dade9278",
   "metadata": {},
   "source": [
    "It is evident that Visual Meteorological Conditions(VMC) were high mid year and low at the beginning and end of the year.\n",
    "There was no significantly huge difference with the Instrument Meteorological Conditions(IMC) over the months."
   ]
  },
  {
   "cell_type": "code",
   "execution_count": 524,
   "id": "df7ca80b",
   "metadata": {},
   "outputs": [
    {
     "name": "stdout",
     "output_type": "stream",
     "text": [
      "Correlation between VMC and total events per month: 1.00\n"
     ]
    }
   ],
   "source": [
    "# Group by Month and Weather.Condition\n",
    "month_weather_counts = df.groupby(['Month', 'Weather.Condition']).size().unstack()\n",
    "month_weather_counts \n",
    "\n",
    " # Add total events per month\n",
    "month_weather_counts['Total_Events'] = month_weather_counts.sum(axis=1)\n",
    "\n",
    "# Check for correlation between Month and Weather.Condition\n",
    "correlation = month_weather_counts['VMC'.strip()].corr(month_weather_counts['Total_Events'])\n",
    "print(f\"Correlation between VMC and total events per month: {correlation:.2f}\")\n",
    "\n",
    "# \"\"\"If there is a relationship: Positive correlation\"\"\"\n",
    "# \"\"\"If there is no relationship: Negative correlation\"\"\""
   ]
  },
  {
   "cell_type": "markdown",
   "id": "4abf4fbf",
   "metadata": {},
   "source": [
    "Any month there was an increase in VMC, the event also increased, there is a **positive relationship** but doesn't explain the **causation**."
   ]
  },
  {
   "cell_type": "code",
   "execution_count": 525,
   "id": "5b2ca56f",
   "metadata": {},
   "outputs": [
    {
     "name": "stdout",
     "output_type": "stream",
     "text": [
      "Chi2=7467.107, p=0.000e+00, dof=2\n"
     ]
    }
   ],
   "source": [
    "# Chi-Square to determine causation\n",
    "# Crosstab fatality vs weather\n",
    "ct = pd.crosstab(df['Is_Fatal'], df['Weather.Condition'])\n",
    "from scipy.stats import chi2_contingency\n",
    "chi2, p, dof, expected = chi2_contingency(ct)\n",
    "\n",
    "print(f\"Chi2={chi2:.3f}, p={p:.3e}, dof={dof}\")\n",
    "\n",
    "# \"\"\"Null Hypothesis: There is no relationship between fatality and weather condition\"\"\"\n",
    "# \"\"\"If the p.value =< 0.05 Reject Null Hypothesis\"\"\""
   ]
  },
  {
   "cell_type": "markdown",
   "id": "e5686aeb",
   "metadata": {},
   "source": [
    "There is a statistically significant relationship between weather conditions and whether an accident was fatal.\n",
    "That means the chance of an accident being fatal is not random across weather conditions — VMC weather condition strongly associated with fatal outcomes."
   ]
  },
  {
   "cell_type": "markdown",
   "id": "7a26e388",
   "metadata": {},
   "source": [
    "#### 3.4 Distribution of Events and Injuries by Engine.Type"
   ]
  },
  {
   "cell_type": "code",
   "execution_count": 526,
   "id": "02fab13f",
   "metadata": {},
   "outputs": [
    {
     "data": {
      "image/png": "[encoded data removed]",
      "text/plain": [
       "<Figure size 720x432 with 1 Axes>"
      ]
     },
     "metadata": {
      "needs_background": "light"
     },
     "output_type": "display_data"
    }
   ],
   "source": [
    "fatalities_by_engine = (\n",
    "    df.groupby(\"Engine.Type\")[\"Total.Fatal.Injuries\"]\n",
    "      .sum()\n",
    "      .reset_index()\n",
    "      .sort_values(by=\"Total.Fatal.Injuries\", ascending=False)\n",
    ")\n",
    "\n",
    "plt.figure(figsize=(10,6))\n",
    "sns.barplot(x=\"Engine.Type\", y=\"Total.Fatal.Injuries\", data=fatalities_by_engine, palette=\"Set2\")\n",
    "\n",
    "plt.title(\"Total Fatal Injuries by Engine Type\")\n",
    "plt.xlabel(\"Engine Type\")\n",
    "plt.ylabel(\"Total Fatal Injuries\")\n",
    "plt.xticks(rotation=45)\n",
    "plt.show()\n",
    "\n"
   ]
  },
  {
   "cell_type": "code",
   "execution_count": 527,
   "id": "deae1a8b",
   "metadata": {},
   "outputs": [
    {
     "name": "stdout",
     "output_type": "stream",
     "text": [
      "Chi2=270.872, p=3.868e-53, dof=9\n"
     ]
    }
   ],
   "source": [
    "# Chi-Square to determine causation\n",
    "# Crosstab fatality vs Engine.Type\n",
    "ct = pd.crosstab(df['Is_Fatal'], df['Engine.Type'])\n",
    "\n",
    "chi2, p, dof, expected = chi2_contingency(ct)\n",
    "\n",
    "print(f\"Chi2={chi2:.3f}, p={p:.3e}, dof={dof}\")\n",
    "\n",
    "# \"\"\"Null Hypothesis: There is no relationship between fatality and weather condition\"\"\"\n",
    "# \"\"\"If the p.value =< 0.05 Reject Null Hypothesis\"\""
   ]
  },
  {
   "cell_type": "markdown",
   "id": "76b92d8a",
   "metadata": {},
   "source": [
    "There is no significant relationship between engine type and whether an accident was fatal.\n",
    "That means the chance of an accident being fatal is random. The type of engine is not associated with fatal outcomes."
   ]
  }
 ],
 "metadata": {
  "kernelspec": {
   "display_name": "learn-env",
   "language": "python",
   "name": "python3"
  },
  "language_info": {
   "codemirror_mode": {
    "name": "ipython",
    "version": 3
   },
   "file_extension": ".py",
   "mimetype": "text/x-python",
   "name": "python",
   "nbconvert_exporter": "python",
   "pygments_lexer": "ipython3",
   "version": "3.8.5"
  }
 },
 "nbformat": 4,
 "nbformat_minor": 5
}
